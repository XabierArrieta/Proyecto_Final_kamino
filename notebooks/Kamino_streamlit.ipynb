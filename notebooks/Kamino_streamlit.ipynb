{
 "cells": [
  {
   "cell_type": "code",
   "execution_count": 1,
   "metadata": {},
   "outputs": [],
   "source": [
    "import pandas as pd\n",
    "\n",
    "import requests\n",
    "import json\n",
    "from dotenv import load_dotenv\n",
    "import os\n",
    "\n",
    "import sys\n",
    "\n",
    "\n",
    "sys.path.append(\"../\")"
   ]
  },
  {
   "cell_type": "code",
   "execution_count": 2,
   "metadata": {},
   "outputs": [
    {
     "data": {
      "text/html": [
       "<div>\n",
       "<style scoped>\n",
       "    .dataframe tbody tr th:only-of-type {\n",
       "        vertical-align: middle;\n",
       "    }\n",
       "\n",
       "    .dataframe tbody tr th {\n",
       "        vertical-align: top;\n",
       "    }\n",
       "\n",
       "    .dataframe thead th {\n",
       "        text-align: right;\n",
       "    }\n",
       "</style>\n",
       "<table border=\"1\" class=\"dataframe\">\n",
       "  <thead>\n",
       "    <tr style=\"text-align: right;\">\n",
       "      <th></th>\n",
       "      <th>CÓDIGO</th>\n",
       "      <th>NOMBRE</th>\n",
       "      <th>MODALIDAD</th>\n",
       "      <th>CATEGORIA</th>\n",
       "      <th>DIRECCIÓN</th>\n",
       "      <th>LOCALIDAD</th>\n",
       "      <th>ZONA</th>\n",
       "      <th>PLAZAS</th>\n",
       "      <th>COORDENADAS</th>\n",
       "    </tr>\n",
       "  </thead>\n",
       "  <tbody>\n",
       "    <tr>\n",
       "      <th>0</th>\n",
       "      <td>UAT00704</td>\n",
       "      <td>22 Caldereros</td>\n",
       "      <td>Apartamento Turístico</td>\n",
       "      <td>Segunda/2 Llaves</td>\n",
       "      <td>Calle Caldereria 22 2º</td>\n",
       "      <td>PAMPLONA</td>\n",
       "      <td>Cuenca de Pamplona</td>\n",
       "      <td>3.0</td>\n",
       "      <td>(42.81825260000001, -1.6420324)</td>\n",
       "    </tr>\n",
       "    <tr>\n",
       "      <th>1</th>\n",
       "      <td>UH000678</td>\n",
       "      <td>A Pamplona</td>\n",
       "      <td>Hotel</td>\n",
       "      <td>2 Estrellas</td>\n",
       "      <td>Calle Sancho Ramirez 15</td>\n",
       "      <td>PAMPLONA</td>\n",
       "      <td>Cuenca de Pamplona</td>\n",
       "      <td>24.0</td>\n",
       "      <td>(42.8072773, -1.6649481)</td>\n",
       "    </tr>\n",
       "    <tr>\n",
       "      <th>2</th>\n",
       "      <td>UH000645</td>\n",
       "      <td>Abba Reino de Navarra</td>\n",
       "      <td>Hotel</td>\n",
       "      <td>4 Estrellas</td>\n",
       "      <td>Calle Acella 1</td>\n",
       "      <td>PAMPLONA</td>\n",
       "      <td>Cuenca de Pamplona</td>\n",
       "      <td>176.0</td>\n",
       "      <td>(42.8085463, -1.6607907)</td>\n",
       "    </tr>\n",
       "    <tr>\n",
       "      <th>3</th>\n",
       "      <td>UHS00856</td>\n",
       "      <td>Abodi II</td>\n",
       "      <td>Hostal</td>\n",
       "      <td>HsG</td>\n",
       "      <td>Calle Sancho Ramírez 31</td>\n",
       "      <td>PAMPLONA</td>\n",
       "      <td>Cuenca de Pamplona</td>\n",
       "      <td>8.0</td>\n",
       "      <td>(42.8082357, -1.6662554)</td>\n",
       "    </tr>\n",
       "    <tr>\n",
       "      <th>4</th>\n",
       "      <td>UH000503</td>\n",
       "      <td>AC Ciudad de Pamplona</td>\n",
       "      <td>Hotel</td>\n",
       "      <td>4 Estrellas</td>\n",
       "      <td>Iturrama 21</td>\n",
       "      <td>PAMPLONA</td>\n",
       "      <td>Cuenca de Pamplona</td>\n",
       "      <td>178.0</td>\n",
       "      <td>(42.8045626, -1.6524894)</td>\n",
       "    </tr>\n",
       "  </tbody>\n",
       "</table>\n",
       "</div>"
      ],
      "text/plain": [
       "     CÓDIGO                 NOMBRE              MODALIDAD         CATEGORIA  \\\n",
       "0  UAT00704          22 Caldereros  Apartamento Turístico  Segunda/2 Llaves   \n",
       "1  UH000678             A Pamplona                  Hotel       2 Estrellas   \n",
       "2  UH000645  Abba Reino de Navarra                  Hotel       4 Estrellas   \n",
       "3  UHS00856               Abodi II                 Hostal               HsG   \n",
       "4  UH000503  AC Ciudad de Pamplona                  Hotel       4 Estrellas   \n",
       "\n",
       "                 DIRECCIÓN LOCALIDAD                ZONA  PLAZAS  \\\n",
       "0   Calle Caldereria 22 2º  PAMPLONA  Cuenca de Pamplona     3.0   \n",
       "1  Calle Sancho Ramirez 15  PAMPLONA  Cuenca de Pamplona    24.0   \n",
       "2           Calle Acella 1  PAMPLONA  Cuenca de Pamplona   176.0   \n",
       "3  Calle Sancho Ramírez 31  PAMPLONA  Cuenca de Pamplona     8.0   \n",
       "4              Iturrama 21  PAMPLONA  Cuenca de Pamplona   178.0   \n",
       "\n",
       "                       COORDENADAS  \n",
       "0  (42.81825260000001, -1.6420324)  \n",
       "1         (42.8072773, -1.6649481)  \n",
       "2         (42.8085463, -1.6607907)  \n",
       "3         (42.8082357, -1.6662554)  \n",
       "4         (42.8045626, -1.6524894)  "
      ]
     },
     "execution_count": 2,
     "metadata": {},
     "output_type": "execute_result"
    }
   ],
   "source": [
    "aloja = pd.read_csv('../data/kamino_aloj_final.csv', error_bad_lines=False, sep = \",\", encoding='UTF-8')\n",
    "aloja.head()"
   ]
  },
  {
   "cell_type": "code",
   "execution_count": 3,
   "metadata": {},
   "outputs": [
    {
     "data": {
      "text/html": [
       "<div>\n",
       "<style scoped>\n",
       "    .dataframe tbody tr th:only-of-type {\n",
       "        vertical-align: middle;\n",
       "    }\n",
       "\n",
       "    .dataframe tbody tr th {\n",
       "        vertical-align: top;\n",
       "    }\n",
       "\n",
       "    .dataframe thead th {\n",
       "        text-align: right;\n",
       "    }\n",
       "</style>\n",
       "<table border=\"1\" class=\"dataframe\">\n",
       "  <thead>\n",
       "    <tr style=\"text-align: right;\">\n",
       "      <th></th>\n",
       "      <th>NOMBRE</th>\n",
       "      <th>MODALIDAD</th>\n",
       "      <th>CATEGORIA</th>\n",
       "      <th>DIRECCIÓN</th>\n",
       "      <th>LOCALIDAD</th>\n",
       "      <th>PLAZAS</th>\n",
       "    </tr>\n",
       "  </thead>\n",
       "  <tbody>\n",
       "    <tr>\n",
       "      <th>0</th>\n",
       "      <td>22 Caldereros</td>\n",
       "      <td>Apartamento Turístico</td>\n",
       "      <td>Segunda/2 Llaves</td>\n",
       "      <td>Calle Caldereria 22 2º</td>\n",
       "      <td>PAMPLONA</td>\n",
       "      <td>3.0</td>\n",
       "    </tr>\n",
       "    <tr>\n",
       "      <th>1</th>\n",
       "      <td>A Pamplona</td>\n",
       "      <td>Hotel</td>\n",
       "      <td>2 Estrellas</td>\n",
       "      <td>Calle Sancho Ramirez 15</td>\n",
       "      <td>PAMPLONA</td>\n",
       "      <td>24.0</td>\n",
       "    </tr>\n",
       "    <tr>\n",
       "      <th>2</th>\n",
       "      <td>Abba Reino de Navarra</td>\n",
       "      <td>Hotel</td>\n",
       "      <td>4 Estrellas</td>\n",
       "      <td>Calle Acella 1</td>\n",
       "      <td>PAMPLONA</td>\n",
       "      <td>176.0</td>\n",
       "    </tr>\n",
       "    <tr>\n",
       "      <th>3</th>\n",
       "      <td>Abodi II</td>\n",
       "      <td>Hostal</td>\n",
       "      <td>HsG</td>\n",
       "      <td>Calle Sancho Ramírez 31</td>\n",
       "      <td>PAMPLONA</td>\n",
       "      <td>8.0</td>\n",
       "    </tr>\n",
       "    <tr>\n",
       "      <th>4</th>\n",
       "      <td>AC Ciudad de Pamplona</td>\n",
       "      <td>Hotel</td>\n",
       "      <td>4 Estrellas</td>\n",
       "      <td>Iturrama 21</td>\n",
       "      <td>PAMPLONA</td>\n",
       "      <td>178.0</td>\n",
       "    </tr>\n",
       "  </tbody>\n",
       "</table>\n",
       "</div>"
      ],
      "text/plain": [
       "                  NOMBRE              MODALIDAD         CATEGORIA  \\\n",
       "0          22 Caldereros  Apartamento Turístico  Segunda/2 Llaves   \n",
       "1             A Pamplona                  Hotel       2 Estrellas   \n",
       "2  Abba Reino de Navarra                  Hotel       4 Estrellas   \n",
       "3               Abodi II                 Hostal               HsG   \n",
       "4  AC Ciudad de Pamplona                  Hotel       4 Estrellas   \n",
       "\n",
       "                 DIRECCIÓN LOCALIDAD  PLAZAS  \n",
       "0   Calle Caldereria 22 2º  PAMPLONA     3.0  \n",
       "1  Calle Sancho Ramirez 15  PAMPLONA    24.0  \n",
       "2           Calle Acella 1  PAMPLONA   176.0  \n",
       "3  Calle Sancho Ramírez 31  PAMPLONA     8.0  \n",
       "4              Iturrama 21  PAMPLONA   178.0  "
      ]
     },
     "execution_count": 3,
     "metadata": {},
     "output_type": "execute_result"
    }
   ],
   "source": [
    "aloja = aloja.drop(['CÓDIGO', 'ZONA', \"COORDENADAS\" ], axis = 1)\n",
    "aloja.head()"
   ]
  },
  {
   "cell_type": "code",
   "execution_count": 4,
   "metadata": {},
   "outputs": [
    {
     "data": {
      "text/plain": [
       "(243, 6)"
      ]
     },
     "execution_count": 4,
     "metadata": {},
     "output_type": "execute_result"
    }
   ],
   "source": [
    "aloja.shape"
   ]
  },
  {
   "cell_type": "code",
   "execution_count": 5,
   "metadata": {},
   "outputs": [
    {
     "data": {
      "text/plain": [
       "array(['PAMPLONA', 'ESTELLA', 'PUENTE LA REINA'], dtype=object)"
      ]
     },
     "execution_count": 5,
     "metadata": {},
     "output_type": "execute_result"
    }
   ],
   "source": [
    "aloja['LOCALIDAD'].unique()"
   ]
  },
  {
   "cell_type": "code",
   "execution_count": 6,
   "metadata": {},
   "outputs": [
    {
     "data": {
      "text/html": [
       "<div>\n",
       "<style scoped>\n",
       "    .dataframe tbody tr th:only-of-type {\n",
       "        vertical-align: middle;\n",
       "    }\n",
       "\n",
       "    .dataframe tbody tr th {\n",
       "        vertical-align: top;\n",
       "    }\n",
       "\n",
       "    .dataframe thead th {\n",
       "        text-align: right;\n",
       "    }\n",
       "</style>\n",
       "<table border=\"1\" class=\"dataframe\">\n",
       "  <thead>\n",
       "    <tr style=\"text-align: right;\">\n",
       "      <th></th>\n",
       "      <th>NOMBRE</th>\n",
       "      <th>MODALIDAD</th>\n",
       "      <th>CATEGORIA</th>\n",
       "      <th>DIRECCIÓN</th>\n",
       "      <th>LOCALIDAD</th>\n",
       "      <th>PLAZAS</th>\n",
       "    </tr>\n",
       "  </thead>\n",
       "  <tbody>\n",
       "    <tr>\n",
       "      <th>0</th>\n",
       "      <td>22 Caldereros</td>\n",
       "      <td>Apartamento Turístico</td>\n",
       "      <td>Segunda/2 Llaves</td>\n",
       "      <td>Calle Caldereria 22 2º</td>\n",
       "      <td>PAMPLONA</td>\n",
       "      <td>3.0</td>\n",
       "    </tr>\n",
       "    <tr>\n",
       "      <th>1</th>\n",
       "      <td>A Pamplona</td>\n",
       "      <td>Hotel</td>\n",
       "      <td>2 Estrellas</td>\n",
       "      <td>Calle Sancho Ramirez 15</td>\n",
       "      <td>PAMPLONA</td>\n",
       "      <td>24.0</td>\n",
       "    </tr>\n",
       "    <tr>\n",
       "      <th>2</th>\n",
       "      <td>Abba Reino de Navarra</td>\n",
       "      <td>Hotel</td>\n",
       "      <td>4 Estrellas</td>\n",
       "      <td>Calle Acella 1</td>\n",
       "      <td>PAMPLONA</td>\n",
       "      <td>176.0</td>\n",
       "    </tr>\n",
       "    <tr>\n",
       "      <th>3</th>\n",
       "      <td>Abodi II</td>\n",
       "      <td>Hostal</td>\n",
       "      <td>HsG</td>\n",
       "      <td>Calle Sancho Ramírez 31</td>\n",
       "      <td>PAMPLONA</td>\n",
       "      <td>8.0</td>\n",
       "    </tr>\n",
       "    <tr>\n",
       "      <th>4</th>\n",
       "      <td>AC Ciudad de Pamplona</td>\n",
       "      <td>Hotel</td>\n",
       "      <td>4 Estrellas</td>\n",
       "      <td>Iturrama 21</td>\n",
       "      <td>PAMPLONA</td>\n",
       "      <td>178.0</td>\n",
       "    </tr>\n",
       "  </tbody>\n",
       "</table>\n",
       "</div>"
      ],
      "text/plain": [
       "                  NOMBRE              MODALIDAD         CATEGORIA  \\\n",
       "0          22 Caldereros  Apartamento Turístico  Segunda/2 Llaves   \n",
       "1             A Pamplona                  Hotel       2 Estrellas   \n",
       "2  Abba Reino de Navarra                  Hotel       4 Estrellas   \n",
       "3               Abodi II                 Hostal               HsG   \n",
       "4  AC Ciudad de Pamplona                  Hotel       4 Estrellas   \n",
       "\n",
       "                 DIRECCIÓN LOCALIDAD  PLAZAS  \n",
       "0   Calle Caldereria 22 2º  PAMPLONA     3.0  \n",
       "1  Calle Sancho Ramirez 15  PAMPLONA    24.0  \n",
       "2           Calle Acella 1  PAMPLONA   176.0  \n",
       "3  Calle Sancho Ramírez 31  PAMPLONA     8.0  \n",
       "4              Iturrama 21  PAMPLONA   178.0  "
      ]
     },
     "execution_count": 6,
     "metadata": {},
     "output_type": "execute_result"
    }
   ],
   "source": [
    "aloja_p = aloja.loc[(aloja['LOCALIDAD'] == \"PAMPLONA\")]\n",
    "aloja_p.head()"
   ]
  },
  {
   "cell_type": "code",
   "execution_count": 8,
   "metadata": {},
   "outputs": [
    {
     "data": {
      "text/plain": [
       "(208, 6)"
      ]
     },
     "execution_count": 8,
     "metadata": {},
     "output_type": "execute_result"
    }
   ],
   "source": [
    "aloja_p.shape"
   ]
  },
  {
   "cell_type": "code",
   "execution_count": 9,
   "metadata": {},
   "outputs": [
    {
     "data": {
      "text/html": [
       "<div>\n",
       "<style scoped>\n",
       "    .dataframe tbody tr th:only-of-type {\n",
       "        vertical-align: middle;\n",
       "    }\n",
       "\n",
       "    .dataframe tbody tr th {\n",
       "        vertical-align: top;\n",
       "    }\n",
       "\n",
       "    .dataframe thead th {\n",
       "        text-align: right;\n",
       "    }\n",
       "</style>\n",
       "<table border=\"1\" class=\"dataframe\">\n",
       "  <thead>\n",
       "    <tr style=\"text-align: right;\">\n",
       "      <th></th>\n",
       "      <th>NOMBRE</th>\n",
       "      <th>MODALIDAD</th>\n",
       "      <th>CATEGORIA</th>\n",
       "      <th>DIRECCIÓN</th>\n",
       "      <th>LOCALIDAD</th>\n",
       "      <th>PLAZAS</th>\n",
       "    </tr>\n",
       "  </thead>\n",
       "  <tbody>\n",
       "    <tr>\n",
       "      <th>235</th>\n",
       "      <td>Amalur</td>\n",
       "      <td>Albergue turístico</td>\n",
       "      <td>2ª Categoria</td>\n",
       "      <td>Cerco Viejo 3 Bajo</td>\n",
       "      <td>PUENTE LA REINA</td>\n",
       "      <td>20.0</td>\n",
       "    </tr>\n",
       "    <tr>\n",
       "      <th>236</th>\n",
       "      <td>Bidean</td>\n",
       "      <td>Hostal</td>\n",
       "      <td>HsRural</td>\n",
       "      <td>Calle Mayor 20</td>\n",
       "      <td>PUENTE LA REINA</td>\n",
       "      <td>36.0</td>\n",
       "    </tr>\n",
       "    <tr>\n",
       "      <th>237</th>\n",
       "      <td>Ganbara</td>\n",
       "      <td>Apartamento Turístico</td>\n",
       "      <td>Tercera/1 Llave</td>\n",
       "      <td>Calle Mayor 86</td>\n",
       "      <td>PUENTE LA REINA</td>\n",
       "      <td>4.0</td>\n",
       "    </tr>\n",
       "    <tr>\n",
       "      <th>238</th>\n",
       "      <td>Jakue</td>\n",
       "      <td>Albergue turístico</td>\n",
       "      <td>del Camino de Santiago</td>\n",
       "      <td>Calle Irunbidea 8</td>\n",
       "      <td>PUENTE LA REINA</td>\n",
       "      <td>90.0</td>\n",
       "    </tr>\n",
       "    <tr>\n",
       "      <th>239</th>\n",
       "      <td>La Casica del Puente</td>\n",
       "      <td>Apartamento Turístico Rural</td>\n",
       "      <td>Segunda/2 Llaves</td>\n",
       "      <td>La Población 1 Puente Románico</td>\n",
       "      <td>PUENTE LA REINA</td>\n",
       "      <td>6.0</td>\n",
       "    </tr>\n",
       "  </tbody>\n",
       "</table>\n",
       "</div>"
      ],
      "text/plain": [
       "                   NOMBRE                    MODALIDAD  \\\n",
       "235                Amalur           Albergue turístico   \n",
       "236                Bidean                       Hostal   \n",
       "237               Ganbara        Apartamento Turístico   \n",
       "238                 Jakue           Albergue turístico   \n",
       "239  La Casica del Puente  Apartamento Turístico Rural   \n",
       "\n",
       "                  CATEGORIA                       DIRECCIÓN        LOCALIDAD  \\\n",
       "235            2ª Categoria              Cerco Viejo 3 Bajo  PUENTE LA REINA   \n",
       "236                 HsRural                  Calle Mayor 20  PUENTE LA REINA   \n",
       "237         Tercera/1 Llave                  Calle Mayor 86  PUENTE LA REINA   \n",
       "238  del Camino de Santiago               Calle Irunbidea 8  PUENTE LA REINA   \n",
       "239        Segunda/2 Llaves  La Población 1 Puente Románico  PUENTE LA REINA   \n",
       "\n",
       "     PLAZAS  \n",
       "235    20.0  \n",
       "236    36.0  \n",
       "237     4.0  \n",
       "238    90.0  \n",
       "239     6.0  "
      ]
     },
     "execution_count": 9,
     "metadata": {},
     "output_type": "execute_result"
    }
   ],
   "source": [
    "aloja_pu = aloja.loc[(aloja['LOCALIDAD'] == \"PUENTE LA REINA\")]\n",
    "aloja_pu.head()"
   ]
  },
  {
   "cell_type": "code",
   "execution_count": 10,
   "metadata": {},
   "outputs": [
    {
     "data": {
      "text/plain": [
       "(8, 6)"
      ]
     },
     "execution_count": 10,
     "metadata": {},
     "output_type": "execute_result"
    }
   ],
   "source": [
    "aloja_pu.shape"
   ]
  },
  {
   "cell_type": "code",
   "execution_count": 11,
   "metadata": {},
   "outputs": [
    {
     "data": {
      "text/html": [
       "<div>\n",
       "<style scoped>\n",
       "    .dataframe tbody tr th:only-of-type {\n",
       "        vertical-align: middle;\n",
       "    }\n",
       "\n",
       "    .dataframe tbody tr th {\n",
       "        vertical-align: top;\n",
       "    }\n",
       "\n",
       "    .dataframe thead th {\n",
       "        text-align: right;\n",
       "    }\n",
       "</style>\n",
       "<table border=\"1\" class=\"dataframe\">\n",
       "  <thead>\n",
       "    <tr style=\"text-align: right;\">\n",
       "      <th></th>\n",
       "      <th>NOMBRE</th>\n",
       "      <th>MODALIDAD</th>\n",
       "      <th>CATEGORIA</th>\n",
       "      <th>DIRECCIÓN</th>\n",
       "      <th>LOCALIDAD</th>\n",
       "      <th>PLAZAS</th>\n",
       "    </tr>\n",
       "  </thead>\n",
       "  <tbody>\n",
       "    <tr>\n",
       "      <th>208</th>\n",
       "      <td>Apartamentos Gebala</td>\n",
       "      <td>Apartamento Turístico Rural</td>\n",
       "      <td>Primera/3 Llaves</td>\n",
       "      <td>Plaza de los Fueros 31</td>\n",
       "      <td>ESTELLA</td>\n",
       "      <td>2.0</td>\n",
       "    </tr>\n",
       "    <tr>\n",
       "      <th>209</th>\n",
       "      <td>Area 99</td>\n",
       "      <td>Hostal</td>\n",
       "      <td>HsG</td>\n",
       "      <td>Merkatondoa  32 A</td>\n",
       "      <td>ESTELLA</td>\n",
       "      <td>22.0</td>\n",
       "    </tr>\n",
       "    <tr>\n",
       "      <th>210</th>\n",
       "      <td>Argia</td>\n",
       "      <td>Apartamento Turístico</td>\n",
       "      <td>Tercera/1 Llave</td>\n",
       "      <td>Arróniz 4 4ºA</td>\n",
       "      <td>ESTELLA</td>\n",
       "      <td>6.0</td>\n",
       "    </tr>\n",
       "    <tr>\n",
       "      <th>211</th>\n",
       "      <td>Azcárate</td>\n",
       "      <td>Apartamento Turístico</td>\n",
       "      <td>Tercera/1 Llave</td>\n",
       "      <td>Guesalaz 3 bajo Iz</td>\n",
       "      <td>ESTELLA</td>\n",
       "      <td>5.0</td>\n",
       "    </tr>\n",
       "    <tr>\n",
       "      <th>212</th>\n",
       "      <td>Bed &amp; Breakfast Zaldu</td>\n",
       "      <td>Pensión</td>\n",
       "      <td>P**</td>\n",
       "      <td>Pío Baroja 1</td>\n",
       "      <td>ESTELLA</td>\n",
       "      <td>8.0</td>\n",
       "    </tr>\n",
       "  </tbody>\n",
       "</table>\n",
       "</div>"
      ],
      "text/plain": [
       "                    NOMBRE                    MODALIDAD         CATEGORIA  \\\n",
       "208    Apartamentos Gebala  Apartamento Turístico Rural  Primera/3 Llaves   \n",
       "209                Area 99                       Hostal               HsG   \n",
       "210                  Argia        Apartamento Turístico   Tercera/1 Llave   \n",
       "211               Azcárate        Apartamento Turístico   Tercera/1 Llave   \n",
       "212  Bed & Breakfast Zaldu                      Pensión               P**   \n",
       "\n",
       "                  DIRECCIÓN LOCALIDAD  PLAZAS  \n",
       "208  Plaza de los Fueros 31   ESTELLA     2.0  \n",
       "209       Merkatondoa  32 A   ESTELLA    22.0  \n",
       "210           Arróniz 4 4ºA   ESTELLA     6.0  \n",
       "211      Guesalaz 3 bajo Iz   ESTELLA     5.0  \n",
       "212            Pío Baroja 1   ESTELLA     8.0  "
      ]
     },
     "execution_count": 11,
     "metadata": {},
     "output_type": "execute_result"
    }
   ],
   "source": [
    "aloja_e = aloja.loc[(aloja['LOCALIDAD'] == \"ESTELLA\")]\n",
    "aloja_e.head()"
   ]
  },
  {
   "cell_type": "code",
   "execution_count": 12,
   "metadata": {},
   "outputs": [
    {
     "data": {
      "text/plain": [
       "(27, 6)"
      ]
     },
     "execution_count": 12,
     "metadata": {},
     "output_type": "execute_result"
    }
   ],
   "source": [
    "aloja_e.shape"
   ]
  }
 ],
 "metadata": {
  "kernelspec": {
   "display_name": "kamino",
   "language": "python",
   "name": "kamino"
  },
  "language_info": {
   "codemirror_mode": {
    "name": "ipython",
    "version": 3
   },
   "file_extension": ".py",
   "mimetype": "text/x-python",
   "name": "python",
   "nbconvert_exporter": "python",
   "pygments_lexer": "ipython3",
   "version": "3.7.10"
  },
  "toc": {
   "base_numbering": 1,
   "nav_menu": {},
   "number_sections": true,
   "sideBar": true,
   "skip_h1_title": false,
   "title_cell": "Table of Contents",
   "title_sidebar": "Contents",
   "toc_cell": false,
   "toc_position": {},
   "toc_section_display": true,
   "toc_window_display": false
  },
  "varInspector": {
   "cols": {
    "lenName": 16,
    "lenType": 16,
    "lenVar": 40
   },
   "kernels_config": {
    "python": {
     "delete_cmd_postfix": "",
     "delete_cmd_prefix": "del ",
     "library": "var_list.py",
     "varRefreshCmd": "print(var_dic_list())"
    },
    "r": {
     "delete_cmd_postfix": ") ",
     "delete_cmd_prefix": "rm(",
     "library": "var_list.r",
     "varRefreshCmd": "cat(var_dic_list()) "
    }
   },
   "types_to_exclude": [
    "module",
    "function",
    "builtin_function_or_method",
    "instance",
    "_Feature"
   ],
   "window_display": false
  }
 },
 "nbformat": 4,
 "nbformat_minor": 5
}
