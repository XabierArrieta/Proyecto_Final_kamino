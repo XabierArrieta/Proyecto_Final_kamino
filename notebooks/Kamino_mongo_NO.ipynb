{
 "cells": [
  {
   "cell_type": "markdown",
   "id": "freelance-melbourne",
   "metadata": {},
   "source": [
    "# Test Colecciones"
   ]
  },
  {
   "cell_type": "code",
   "execution_count": 1,
   "id": "vital-bread",
   "metadata": {},
   "outputs": [],
   "source": [
    "import requests\n",
    "import json\n",
    "from pymongo import MongoClient\n",
    "#from mongoConnection import *\n",
    "from flask import Flask, request, jsonify\n",
    "from bson.json_util import dumps"
   ]
  },
  {
   "cell_type": "code",
   "execution_count": 39,
   "id": "partial-cocktail",
   "metadata": {},
   "outputs": [],
   "source": [
    "client = MongoClient()\n",
    "db = client.get_database(\"kamino\")\n",
    "aloj = client.kamino.Alojamiento\n",
    "rest = client.kamino.Restauracion\n",
    "patr = client.kamino.Patrimonio"
   ]
  },
  {
   "cell_type": "code",
   "execution_count": 42,
   "id": "assured-connecticut",
   "metadata": {},
   "outputs": [
    {
     "data": {
      "text/plain": [
       "[{'name': 'Restauracion',\n",
       "  'type': 'collection',\n",
       "  'options': {},\n",
       "  'info': {'readOnly': False,\n",
       "   'uuid': UUID('3ebc0102-49d9-4a0d-a5f5-e51c17166493')},\n",
       "  'idIndex': {'v': 2, 'key': {'_id': 1}, 'name': '_id_'}},\n",
       " {'name': 'Patrimonio',\n",
       "  'type': 'collection',\n",
       "  'options': {},\n",
       "  'info': {'readOnly': False,\n",
       "   'uuid': UUID('ba0764b0-8b6b-4a1c-a0d9-d4dd3614281c')},\n",
       "  'idIndex': {'v': 2, 'key': {'_id': 1}, 'name': '_id_'}},\n",
       " {'name': 'Alojamiento',\n",
       "  'type': 'collection',\n",
       "  'options': {},\n",
       "  'info': {'readOnly': False,\n",
       "   'uuid': UUID('f889ab8a-d498-4112-8ddd-937be5cfd547')},\n",
       "  'idIndex': {'v': 2, 'key': {'_id': 1}, 'name': '_id_'}}]"
      ]
     },
     "execution_count": 42,
     "metadata": {},
     "output_type": "execute_result"
    }
   ],
   "source": [
    "list(db.list_collections())"
   ]
  },
  {
   "cell_type": "markdown",
   "id": "living-girlfriend",
   "metadata": {},
   "source": [
    "## Test Alojamiento"
   ]
  },
  {
   "cell_type": "code",
   "execution_count": 53,
   "id": "smart-stream",
   "metadata": {},
   "outputs": [
    {
     "data": {
      "text/plain": [
       "[{'NOMBRE': '22 Caldereros',\n",
       "  'MODALIDAD': 'Apartamento Turístico',\n",
       "  'CATEGORIA': 'Segunda/2 Llaves',\n",
       "  'DIRECCIÓN': 'Calle Caldereria 22 2º',\n",
       "  'LOCALIDAD': 'PAMPLONA',\n",
       "  'ZONA': 'Cuenca de Pamplona',\n",
       "  'PLAZAS': '3.0',\n",
       "  'COORDENADAS': '(42.81825260000001, -1.6420324)'},\n",
       " {'NOMBRE': 'A Pamplona',\n",
       "  'MODALIDAD': 'Hotel',\n",
       "  'CATEGORIA': '2 Estrellas',\n",
       "  'DIRECCIÓN': 'Calle Sancho Ramirez 15',\n",
       "  'LOCALIDAD': 'PAMPLONA',\n",
       "  'ZONA': 'Cuenca de Pamplona',\n",
       "  'PLAZAS': '24.0',\n",
       "  'COORDENADAS': '(42.8072773, -1.6649481)'},\n",
       " {'NOMBRE': 'Abba Reino de Navarra',\n",
       "  'MODALIDAD': 'Hotel',\n",
       "  'CATEGORIA': '4 Estrellas',\n",
       "  'DIRECCIÓN': 'Calle Acella 1',\n",
       "  'LOCALIDAD': 'PAMPLONA',\n",
       "  'ZONA': 'Cuenca de Pamplona',\n",
       "  'PLAZAS': '176.0',\n",
       "  'COORDENADAS': '(42.8085463, -1.6607907)'},\n",
       " {'NOMBRE': 'Abodi II',\n",
       "  'MODALIDAD': 'Hostal',\n",
       "  'CATEGORIA': 'HsG',\n",
       "  'DIRECCIÓN': 'Calle Sancho Ramírez 31',\n",
       "  'LOCALIDAD': 'PAMPLONA',\n",
       "  'ZONA': 'Cuenca de Pamplona',\n",
       "  'PLAZAS': '8.0',\n",
       "  'COORDENADAS': '(42.8082357, -1.6662554)'},\n",
       " {'NOMBRE': 'AC Ciudad de Pamplona',\n",
       "  'MODALIDAD': 'Hotel',\n",
       "  'CATEGORIA': '4 Estrellas',\n",
       "  'DIRECCIÓN': 'Iturrama 21',\n",
       "  'LOCALIDAD': 'PAMPLONA',\n",
       "  'ZONA': 'Cuenca de Pamplona',\n",
       "  'PLAZAS': '178.0',\n",
       "  'COORDENADAS': '(42.8045626, -1.6524894)'}]"
      ]
     },
     "execution_count": 53,
     "metadata": {},
     "output_type": "execute_result"
    }
   ],
   "source": [
    "#Todos los alojaminetos por localidad\n",
    "q1 = {\"LOCALIDAD\":\"PAMPLONA\"}\n",
    "\n",
    "z1 = list(db.Alojamiento.find(q1,{\"_id\":0, \"CÓDIGO\":0}))\n",
    "\n",
    "z1[:5]"
   ]
  },
  {
   "cell_type": "code",
   "execution_count": 56,
   "id": "proud-millennium",
   "metadata": {},
   "outputs": [
    {
     "data": {
      "text/plain": [
       "[{'NOMBRE': '22 Caldereros', 'MODALIDAD': 'Apartamento Turístico'},\n",
       " {'NOMBRE': 'A Pamplona', 'MODALIDAD': 'Hotel'},\n",
       " {'NOMBRE': 'Abba Reino de Navarra', 'MODALIDAD': 'Hotel'},\n",
       " {'NOMBRE': 'Abodi II', 'MODALIDAD': 'Hostal'},\n",
       " {'NOMBRE': 'AC Ciudad de Pamplona', 'MODALIDAD': 'Hotel'},\n",
       " {'NOMBRE': 'Acella 4', 'MODALIDAD': 'Hostal'},\n",
       " {'NOMBRE': 'Acella II', 'MODALIDAD': 'Pensión'},\n",
       " {'NOMBRE': 'Albergue Plaza Catedral', 'MODALIDAD': 'Albergue turístico'},\n",
       " {'NOMBRE': 'Albret', 'MODALIDAD': 'Hotel'},\n",
       " {'NOMBRE': 'Alisol', 'MODALIDAD': 'Apartamento Turístico'}]"
      ]
     },
     "execution_count": 56,
     "metadata": {},
     "output_type": "execute_result"
    }
   ],
   "source": [
    "# Todos los alojamiento de una localidad y mostrando que tipo de alojamiento\n",
    "q2 = {\"LOCALIDAD\":\"PAMPLONA\"}\n",
    "\n",
    "z2 = list(db.Alojamiento.find(q2,{\"_id\":0, \"MODALIDAD\":1, \"NOMBRE\":1}))\n",
    "\n",
    "z2[:10]"
   ]
  },
  {
   "cell_type": "code",
   "execution_count": 38,
   "id": "juvenile-proposition",
   "metadata": {},
   "outputs": [
    {
     "data": {
      "text/plain": [
       "[{'NOMBRE': 'A Pamplona', 'MODALIDAD': 'Hotel', 'LOCALIDAD': 'PAMPLONA'},\n",
       " {'NOMBRE': 'Abba Reino de Navarra',\n",
       "  'MODALIDAD': 'Hotel',\n",
       "  'LOCALIDAD': 'PAMPLONA'},\n",
       " {'NOMBRE': 'AC Ciudad de Pamplona',\n",
       "  'MODALIDAD': 'Hotel',\n",
       "  'LOCALIDAD': 'PAMPLONA'},\n",
       " {'NOMBRE': 'Albret', 'MODALIDAD': 'Hotel', 'LOCALIDAD': 'PAMPLONA'},\n",
       " {'NOMBRE': 'Alma Pamplona', 'MODALIDAD': 'Hotel', 'LOCALIDAD': 'PAMPLONA'}]"
      ]
     },
     "execution_count": 38,
     "metadata": {},
     "output_type": "execute_result"
    }
   ],
   "source": [
    "# Todos los alojamiento de una localidad por modalidad y mostrando su nombre\n",
    "q3 = {\"$and\":[{\"LOCALIDAD\":\"PAMPLONA\"},{\"MODALIDAD\":\"Hotel\"}]}\n",
    "\n",
    "z3 = list(db.Alojamiento.find(q3,{\"_id\":0, \"MODALIDAD\":1, \"NOMBRE\":1, \"LOCALIDAD\":1}))\n",
    "\n",
    "z3[:5]"
   ]
  },
  {
   "cell_type": "code",
   "execution_count": 51,
   "id": "possible-planning",
   "metadata": {},
   "outputs": [
    {
     "data": {
      "text/plain": [
       "[{'NOMBRE': 'A Pamplona',\n",
       "  'MODALIDAD': 'Hotel',\n",
       "  'DIRECCIÓN': 'Calle Sancho Ramirez 15',\n",
       "  'LOCALIDAD': 'PAMPLONA'},\n",
       " {'NOMBRE': 'Abba Reino de Navarra',\n",
       "  'MODALIDAD': 'Hotel',\n",
       "  'DIRECCIÓN': 'Calle Acella 1',\n",
       "  'LOCALIDAD': 'PAMPLONA'},\n",
       " {'NOMBRE': 'AC Ciudad de Pamplona',\n",
       "  'MODALIDAD': 'Hotel',\n",
       "  'DIRECCIÓN': 'Iturrama 21',\n",
       "  'LOCALIDAD': 'PAMPLONA'},\n",
       " {'NOMBRE': 'Albret',\n",
       "  'MODALIDAD': 'Hotel',\n",
       "  'DIRECCIÓN': 'Ermitagaña 3',\n",
       "  'LOCALIDAD': 'PAMPLONA'},\n",
       " {'NOMBRE': 'Alma Pamplona',\n",
       "  'MODALIDAD': 'Hotel',\n",
       "  'DIRECCIÓN': 'Calle Beloso Bajo 11',\n",
       "  'LOCALIDAD': 'PAMPLONA'}]"
      ]
     },
     "execution_count": 51,
     "metadata": {},
     "output_type": "execute_result"
    }
   ],
   "source": [
    "# Todos los alojamiento de una localidad por modalidad, mostrando su nombre Y dirección\n",
    "q4 = {\"$and\":[{\"LOCALIDAD\":\"PAMPLONA\"},{\"MODALIDAD\":\"Hotel\"}]}\n",
    "\n",
    "z4 = list(db.Alojamiento.find(q4,{\"_id\":0, \"MODALIDAD\":1, \"NOMBRE\":1, \"LOCALIDAD\":1, \"DIRECCIÓN\":1}))\n",
    "\n",
    "z4[:5]"
   ]
  },
  {
   "cell_type": "markdown",
   "id": "authorized-bradley",
   "metadata": {},
   "source": [
    "## Test Restauración"
   ]
  },
  {
   "cell_type": "code",
   "execution_count": 54,
   "id": "atlantic-recruitment",
   "metadata": {},
   "outputs": [
    {
     "data": {
      "text/plain": [
       "[{'NOMBRE': 'Asador La Tasca',\n",
       "  'MODALIDAD': 'Restaurantes',\n",
       "  'CATEGORÍA': 'Sin definir',\n",
       "  'DIRECCIÓN': 'Navarro Villoslada 1',\n",
       "  'LOCALIDAD': 'ESTELLA',\n",
       "  'ZONA': 'Zona Media',\n",
       "  'ESPECIALIDAD': 'Asador',\n",
       "  'COORDENADAS': '(42.8126733, -1.6394528)'},\n",
       " {'NOMBRE': 'Astarriaga',\n",
       "  'MODALIDAD': 'Restaurantes',\n",
       "  'CATEGORÍA': 'Primera/3 tenedores',\n",
       "  'DIRECCIÓN': 'de los Fueros 12',\n",
       "  'LOCALIDAD': 'ESTELLA',\n",
       "  'ZONA': 'Zona Media',\n",
       "  'ESPECIALIDAD': 'Asador',\n",
       "  'COORDENADAS': '(42.8438787, -2.6699281)'},\n",
       " {'NOMBRE': 'Casa de Comidas San Miguel',\n",
       "  'MODALIDAD': 'Restaurantes',\n",
       "  'CATEGORÍA': 'Sin definir',\n",
       "  'DIRECCIÓN': 'Calle Espoz y Mina 7',\n",
       "  'LOCALIDAD': 'ESTELLA',\n",
       "  'ZONA': 'Zona Media',\n",
       "  'ESPECIALIDAD': 'Casera o regional',\n",
       "  'COORDENADAS': '(40.4157547, -3.702127199999999)'},\n",
       " {'NOMBRE': 'Casanova',\n",
       "  'MODALIDAD': 'Restaurantes',\n",
       "  'CATEGORÍA': 'Segunda/2 Tenedores',\n",
       "  'DIRECCIÓN': 'Fray Wenceslao de Oñate 8',\n",
       "  'LOCALIDAD': 'ESTELLA',\n",
       "  'ZONA': 'Zona Media',\n",
       "  'ESPECIALIDAD': 'Casera o regional',\n",
       "  'COORDENADAS': '(42.67215909999999, -2.0324258)'},\n",
       " {'NOMBRE': 'China Town',\n",
       "  'MODALIDAD': 'Restaurantes',\n",
       "  'CATEGORÍA': 'Tercera/1 tenedor',\n",
       "  'DIRECCIÓN': 'Paseo de la Inmaculada 72',\n",
       "  'LOCALIDAD': 'ESTELLA',\n",
       "  'ZONA': 'Zona Media',\n",
       "  'ESPECIALIDAD': 'Internacional',\n",
       "  'COORDENADAS': '(42.6721555, -2.0342455)'}]"
      ]
     },
     "execution_count": 54,
     "metadata": {},
     "output_type": "execute_result"
    }
   ],
   "source": [
    "#Todas las opciones de Restauración por localidad\n",
    "q1 = {\"LOCALIDAD\":\"ESTELLA\"}\n",
    "\n",
    "z1 = list(db.Restauracion.find(q1,{\"_id\":0, \"CÓDIGO\":0}))\n",
    "\n",
    "z1[:5]"
   ]
  },
  {
   "cell_type": "code",
   "execution_count": 58,
   "id": "atmospheric-mayor",
   "metadata": {},
   "outputs": [
    {
     "data": {
      "text/plain": [
       "[{'NOMBRE': 'Asador La Tasca', 'MODALIDAD': 'Restaurantes'},\n",
       " {'NOMBRE': 'Astarriaga', 'MODALIDAD': 'Restaurantes'},\n",
       " {'NOMBRE': 'Casa de Comidas San Miguel', 'MODALIDAD': 'Restaurantes'},\n",
       " {'NOMBRE': 'Casanova', 'MODALIDAD': 'Restaurantes'},\n",
       " {'NOMBRE': 'China Town', 'MODALIDAD': 'Restaurantes'},\n",
       " {'NOMBRE': 'Don Menú', 'MODALIDAD': 'Restaurantes'},\n",
       " {'NOMBRE': 'El Volante', 'MODALIDAD': 'Restaurantes'},\n",
       " {'NOMBRE': 'Florida', 'MODALIDAD': 'Restaurantes'},\n",
       " {'NOMBRE': 'La Aljama', 'MODALIDAD': 'Restaurantes'},\n",
       " {'NOMBRE': 'La Cepa', 'MODALIDAD': 'Restaurantes'}]"
      ]
     },
     "execution_count": 58,
     "metadata": {},
     "output_type": "execute_result"
    }
   ],
   "source": [
    "# Toda la restauración de una localidad y mostrando qué tipo y su nombre\n",
    "q2 = {\"LOCALIDAD\":\"ESTELLA\"}\n",
    "\n",
    "z2 = list(db.Restauracion.find(q2,{\"_id\":0, \"MODALIDAD\":1, \"NOMBRE\":1}))\n",
    "\n",
    "z2[:10]"
   ]
  },
  {
   "cell_type": "code",
   "execution_count": 59,
   "id": "amended-badge",
   "metadata": {},
   "outputs": [
    {
     "data": {
      "text/plain": [
       "[{'NOMBRE': 'Asador La Tasca',\n",
       "  'MODALIDAD': 'Restaurantes',\n",
       "  'LOCALIDAD': 'ESTELLA'},\n",
       " {'NOMBRE': 'Astarriaga', 'MODALIDAD': 'Restaurantes', 'LOCALIDAD': 'ESTELLA'},\n",
       " {'NOMBRE': 'Casa de Comidas San Miguel',\n",
       "  'MODALIDAD': 'Restaurantes',\n",
       "  'LOCALIDAD': 'ESTELLA'},\n",
       " {'NOMBRE': 'Casanova', 'MODALIDAD': 'Restaurantes', 'LOCALIDAD': 'ESTELLA'},\n",
       " {'NOMBRE': 'China Town', 'MODALIDAD': 'Restaurantes', 'LOCALIDAD': 'ESTELLA'}]"
      ]
     },
     "execution_count": 59,
     "metadata": {},
     "output_type": "execute_result"
    }
   ],
   "source": [
    "# Todos los restaurantes de una localidad por modalidad y mostrando su nombre y localidad\n",
    "q3 = {\"$and\":[{\"LOCALIDAD\":\"ESTELLA\"},{\"MODALIDAD\":\"Restaurantes\"}]}\n",
    "\n",
    "z3 = list(db.Restauracion.find(q3,{\"_id\":0, \"MODALIDAD\":1, \"NOMBRE\":1, \"LOCALIDAD\":1}))\n",
    "\n",
    "z3[:5]"
   ]
  },
  {
   "cell_type": "code",
   "execution_count": 61,
   "id": "loose-spotlight",
   "metadata": {},
   "outputs": [
    {
     "data": {
      "text/plain": [
       "[{'NOMBRE': 'Asador La Tasca',\n",
       "  'MODALIDAD': 'Restaurantes',\n",
       "  'DIRECCIÓN': 'Navarro Villoslada 1',\n",
       "  'LOCALIDAD': 'ESTELLA'},\n",
       " {'NOMBRE': 'Astarriaga',\n",
       "  'MODALIDAD': 'Restaurantes',\n",
       "  'DIRECCIÓN': 'de los Fueros 12',\n",
       "  'LOCALIDAD': 'ESTELLA'},\n",
       " {'NOMBRE': 'Casa de Comidas San Miguel',\n",
       "  'MODALIDAD': 'Restaurantes',\n",
       "  'DIRECCIÓN': 'Calle Espoz y Mina 7',\n",
       "  'LOCALIDAD': 'ESTELLA'},\n",
       " {'NOMBRE': 'Casanova',\n",
       "  'MODALIDAD': 'Restaurantes',\n",
       "  'DIRECCIÓN': 'Fray Wenceslao de Oñate 8',\n",
       "  'LOCALIDAD': 'ESTELLA'},\n",
       " {'NOMBRE': 'China Town',\n",
       "  'MODALIDAD': 'Restaurantes',\n",
       "  'DIRECCIÓN': 'Paseo de la Inmaculada 72',\n",
       "  'LOCALIDAD': 'ESTELLA'}]"
      ]
     },
     "execution_count": 61,
     "metadata": {},
     "output_type": "execute_result"
    }
   ],
   "source": [
    "# Todos los Restaurantes de una localidad por modalidad, mostrando su nombre, dirección y localidad\n",
    "q4 = {\"$and\":[{\"LOCALIDAD\":\"ESTELLA\"},{\"MODALIDAD\":\"Restaurantes\"}]}\n",
    "\n",
    "z4 = list(db.Restauracion.find(q4,{\"_id\":0, \"MODALIDAD\":1, \"NOMBRE\":1, \"LOCALIDAD\":1, \"DIRECCIÓN\":1}))\n",
    "\n",
    "z4[:5]"
   ]
  },
  {
   "cell_type": "markdown",
   "id": "verbal-success",
   "metadata": {},
   "source": [
    "## Test Patrimonio"
   ]
  },
  {
   "cell_type": "code",
   "execution_count": 63,
   "id": "subject-respondent",
   "metadata": {},
   "outputs": [
    {
     "data": {
      "text/plain": [
       "[{'NOMBRE': 'Casa del Vínculo',\n",
       "  'CATEGORÍA': 'Edificios públicos de interés',\n",
       "  'ESTILO': 'no definido',\n",
       "  'LOCALIDAD': 'PUENTE LA REINA',\n",
       "  'ZONA': 'Zona Media',\n",
       "  'COORDENADAS': '(10.5053836, -66.91408009999999)'},\n",
       " {'NOMBRE': 'Iglesia de Santiago el Mayor',\n",
       "  'CATEGORÍA': 'Iglesias y ermitas',\n",
       "  'ESTILO': 'Románico',\n",
       "  'LOCALIDAD': 'PUENTE LA REINA',\n",
       "  'ZONA': 'Zona Media',\n",
       "  'COORDENADAS': '(41.6526763, -0.8853006)'},\n",
       " {'NOMBRE': 'Iglesia del Crucifijo',\n",
       "  'CATEGORÍA': 'Iglesias y ermitas',\n",
       "  'ESTILO': 'Gótico, Románico',\n",
       "  'LOCALIDAD': 'PUENTE LA REINA',\n",
       "  'ZONA': 'Zona Media',\n",
       "  'COORDENADAS': '(42.6731287, -1.8107319)'},\n",
       " {'NOMBRE': 'Puente Románico de Puente la Reina',\n",
       "  'CATEGORÍA': 'Obras de ingeniería',\n",
       "  'ESTILO': 'Románico',\n",
       "  'LOCALIDAD': 'PUENTE LA REINA',\n",
       "  'ZONA': 'Zona Media',\n",
       "  'COORDENADAS': '(42.6711661, -1.8188069)'}]"
      ]
     },
     "execution_count": 63,
     "metadata": {},
     "output_type": "execute_result"
    }
   ],
   "source": [
    "#Todas las opciones de Patrimonio por localidad\n",
    "q1 = {\"LOCALIDAD\":\"PUENTE LA REINA\"}\n",
    "\n",
    "z1 = list(db.Patrimonio.find(q1,{\"_id\":0, \"CÓDIGO\":0}))\n",
    "\n",
    "z1[:5]"
   ]
  },
  {
   "cell_type": "code",
   "execution_count": 65,
   "id": "actual-heritage",
   "metadata": {},
   "outputs": [
    {
     "data": {
      "text/plain": [
       "[{'NOMBRE': 'Casa del Vínculo', 'CATEGORÍA': 'Edificios públicos de interés'},\n",
       " {'NOMBRE': 'Iglesia de Santiago el Mayor', 'CATEGORÍA': 'Iglesias y ermitas'},\n",
       " {'NOMBRE': 'Iglesia del Crucifijo', 'CATEGORÍA': 'Iglesias y ermitas'},\n",
       " {'NOMBRE': 'Puente Románico de Puente la Reina',\n",
       "  'CATEGORÍA': 'Obras de ingeniería'}]"
      ]
     },
     "execution_count": 65,
     "metadata": {},
     "output_type": "execute_result"
    }
   ],
   "source": [
    "# Todo el patrimonio de una localidad y \n",
    "q2 = {\"LOCALIDAD\":\"PUENTE LA REINA\"}\n",
    "\n",
    "z2 = list(db.Patrimonio.find(q2,{\"_id\":0, \"CATEGORÍA\":1, \"NOMBRE\":1}))\n",
    "\n",
    "z2[:10]"
   ]
  },
  {
   "cell_type": "code",
   "execution_count": 80,
   "id": "accomplished-sheffield",
   "metadata": {},
   "outputs": [
    {
     "data": {
      "text/plain": [
       "[{'NOMBRE': 'Casa del Vínculo',\n",
       "  'CATEGORÍA': 'Edificios públicos de interés',\n",
       "  'ESTILO': 'no definido'},\n",
       " {'NOMBRE': 'Iglesia de Santiago el Mayor',\n",
       "  'CATEGORÍA': 'Iglesias y ermitas',\n",
       "  'ESTILO': 'Románico'},\n",
       " {'NOMBRE': 'Iglesia del Crucifijo',\n",
       "  'CATEGORÍA': 'Iglesias y ermitas',\n",
       "  'ESTILO': 'Gótico, Románico'},\n",
       " {'NOMBRE': 'Puente Románico de Puente la Reina',\n",
       "  'CATEGORÍA': 'Obras de ingeniería',\n",
       "  'ESTILO': 'Románico'}]"
      ]
     },
     "execution_count": 80,
     "metadata": {},
     "output_type": "execute_result"
    }
   ],
   "source": [
    "# Todos el patrimonio de una localidad y mostrando nombre, categoría y estilo\n",
    "q3 = {\"LOCALIDAD\":\"PUENTE LA REINA\"}\n",
    "\n",
    "z3 = list(db.Patrimonio.find(q3,{\"_id\":0,\"CATEGORÍA\":1, \"NOMBRE\":1, \"ESTILO\":1}))\n",
    "\n",
    "z3[:5]"
   ]
  },
  {
   "cell_type": "code",
   "execution_count": 81,
   "id": "impressive-morning",
   "metadata": {},
   "outputs": [
    {
     "data": {
      "text/plain": [
       "[{'NOMBRE': 'Casa del Vínculo',\n",
       "  'LOCALIDAD': 'PUENTE LA REINA',\n",
       "  'COORDENADAS': '(10.5053836, -66.91408009999999)'},\n",
       " {'NOMBRE': 'Iglesia de Santiago el Mayor',\n",
       "  'LOCALIDAD': 'PUENTE LA REINA',\n",
       "  'COORDENADAS': '(41.6526763, -0.8853006)'},\n",
       " {'NOMBRE': 'Iglesia del Crucifijo',\n",
       "  'LOCALIDAD': 'PUENTE LA REINA',\n",
       "  'COORDENADAS': '(42.6731287, -1.8107319)'},\n",
       " {'NOMBRE': 'Puente Románico de Puente la Reina',\n",
       "  'LOCALIDAD': 'PUENTE LA REINA',\n",
       "  'COORDENADAS': '(42.6711661, -1.8188069)'}]"
      ]
     },
     "execution_count": 81,
     "metadata": {},
     "output_type": "execute_result"
    }
   ],
   "source": [
    "# Todo el patrimonio de una localidad mostrando sus coordenadas\n",
    "q4 = {\"LOCALIDAD\":\"PUENTE LA REINA\"}\n",
    "\n",
    "z4 = list(db.Patrimonio.find(q4,{\"_id\":0, \"NOMBRE\":1, \"LOCALIDAD\":1, \"COORDENADAS\":1}))\n",
    "\n",
    "z4[:5]"
   ]
  },
  {
   "cell_type": "markdown",
   "id": "sporting-scholar",
   "metadata": {},
   "source": [
    "# Funciones y mapas"
   ]
  },
  {
   "cell_type": "code",
   "execution_count": 321,
   "id": "incident-excellence",
   "metadata": {},
   "outputs": [],
   "source": [
    "import folium\n",
    "from folium import Choropleth, Circle, Marker, Icon, Map\n",
    "from geopy.geocoders import Nominatim"
   ]
  },
  {
   "cell_type": "code",
   "execution_count": 330,
   "id": "noted-privilege",
   "metadata": {},
   "outputs": [],
   "source": [
    "#OKKKKK!\n",
    "def localidad():\n",
    "    localidad = (input(\"Localidad: \")).upper()\n",
    "    \n",
    "    locator = Nominatim(user_agent = \"myGeocoder\")\n",
    "    location = locator.geocode(localidad)\n",
    "    coordenadas = location.latitude, location.longitude\n",
    "    \n",
    "    #GEOPY SÁCA COORDENADAS DE LA POBLACIÓN, MODO LISTA Y FLOATS\n",
    "    return list(coordenadas)"
   ]
  },
  {
   "cell_type": "code",
   "execution_count": 331,
   "id": "therapeutic-summit",
   "metadata": {},
   "outputs": [
    {
     "name": "stdout",
     "output_type": "stream",
     "text": [
      "Localidad: Pamplona\n"
     ]
    },
    {
     "data": {
      "text/plain": [
       "[42.8184538, -1.6442556]"
      ]
     },
     "execution_count": 331,
     "metadata": {},
     "output_type": "execute_result"
    }
   ],
   "source": [
    "localidad()"
   ]
  },
  {
   "cell_type": "code",
   "execution_count": 222,
   "id": "narrow-shirt",
   "metadata": {},
   "outputs": [],
   "source": [
    "def localidad_coord(poblacion):\n",
    " \n",
    "    query = {\"LOCALIDAD\":f\"{poblacion}\"}\n",
    "    coordenadas = list(db.Alojamiento.find(query,{\"_id\":0,\"COORDENADAS\":1}))\n",
    "    return coordenadas\n",
    "    "
   ]
  },
  {
   "cell_type": "code",
   "execution_count": 223,
   "id": "mighty-moore",
   "metadata": {},
   "outputs": [
    {
     "data": {
      "text/plain": [
       "[{'COORDENADAS': '(42.81825260000001, -1.6420324)'},\n",
       " {'COORDENADAS': '(42.8072773, -1.6649481)'},\n",
       " {'COORDENADAS': '(42.8085463, -1.6607907)'},\n",
       " {'COORDENADAS': '(42.8082357, -1.6662554)'},\n",
       " {'COORDENADAS': '(42.8045626, -1.6524894)'},\n",
       " {'COORDENADAS': '(42.80842699999999, -1.6604504)'},\n",
       " {'COORDENADAS': '(42.8063859, -1.6633542)'},\n",
       " {'COORDENADAS': '(42.8196562, -1.6420518)'},\n",
       " {'COORDENADAS': '(42.8097535, -1.669261)'},\n",
       " {'COORDENADAS': '(40.4241122, -3.6969734)'}]"
      ]
     },
     "execution_count": 223,
     "metadata": {},
     "output_type": "execute_result"
    }
   ],
   "source": [
    "localidad_coord(\"PAMPLONA\")[:10]"
   ]
  },
  {
   "cell_type": "code",
   "execution_count": 239,
   "id": "lined-steal",
   "metadata": {},
   "outputs": [],
   "source": [
    "def locali_colec_coord(poblacion, coleccion):\n",
    "    coleccion = f\"{coleccion}\"\n",
    "    query = {\"LOCALIDAD\":f\"{poblacion}\"}\n",
    "    bbdd = db[f'{coleccion}']\n",
    "    coordenadas = list(bbdd.find(query,{\"_id\":0,\"COORDENADAS\":1}))\n",
    "    return coordenadas"
   ]
  },
  {
   "cell_type": "code",
   "execution_count": 334,
   "id": "molecular-fiber",
   "metadata": {},
   "outputs": [],
   "source": [
    "def locali_colec_coord(coleccion):\n",
    "    \n",
    "    poblacion = localidad()\n",
    "    \n",
    "    coleccion = f\"{coleccion}\"\n",
    "    query = {\"LOCALIDAD\":f\"{poblacion}\"}\n",
    "    bbdd = db[f'{coleccion}']\n",
    "    coordenadas = list(bbdd.find(query,{\"_id\":0,\"COORDENADAS\":1}))\n",
    "    return coordenadas"
   ]
  },
  {
   "cell_type": "code",
   "execution_count": 247,
   "id": "latin-layer",
   "metadata": {},
   "outputs": [
    {
     "name": "stdout",
     "output_type": "stream",
     "text": [
      "Localidad: PAMPLONA\n"
     ]
    },
    {
     "data": {
      "text/plain": [
       "[{'COORDENADAS': '(42.81825260000001, -1.6420324)'},\n",
       " {'COORDENADAS': '(42.8072773, -1.6649481)'},\n",
       " {'COORDENADAS': '(42.8085463, -1.6607907)'},\n",
       " {'COORDENADAS': '(42.8082357, -1.6662554)'},\n",
       " {'COORDENADAS': '(42.8045626, -1.6524894)'},\n",
       " {'COORDENADAS': '(42.80842699999999, -1.6604504)'},\n",
       " {'COORDENADAS': '(42.8063859, -1.6633542)'},\n",
       " {'COORDENADAS': '(42.8196562, -1.6420518)'},\n",
       " {'COORDENADAS': '(42.8097535, -1.669261)'},\n",
       " {'COORDENADAS': '(40.4241122, -3.6969734)'},\n",
       " {'COORDENADAS': '(42.8197515, -1.6239049)'},\n",
       " {'COORDENADAS': '(42.8175568, -1.6429613)'},\n",
       " {'COORDENADAS': '(42.5767441, -1.2851532)'},\n",
       " {'COORDENADAS': '(42.8063562, -1.6619065)'},\n",
       " {'COORDENADAS': '(42.1374328, -0.4051738)'},\n",
       " {'COORDENADAS': '(42.8082357, -1.6662554)'},\n",
       " {'COORDENADAS': '(42.8186914, -1.6428518)'},\n",
       " {'COORDENADAS': '(19.1734082, -96.2229948)'},\n",
       " {'COORDENADAS': '(41.5014195, -5.7464561)'},\n",
       " {'COORDENADAS': '(42.8177134, -1.6449143)'},\n",
       " {'COORDENADAS': '(42.8191138, -1.6412975)'},\n",
       " {'COORDENADAS': '(40.2414307, -3.7682513)'},\n",
       " {'COORDENADAS': '(42.8163203, -1.6437566)'},\n",
       " {'COORDENADAS': '(41.6488226, -0.8890853)'},\n",
       " {'COORDENADAS': '(40.3719395, -3.6920885)'},\n",
       " {'COORDENADAS': '(42.8049216, -1.6457672)'},\n",
       " {'COORDENADAS': '(42.7855575, -1.6882181)'},\n",
       " {'COORDENADAS': '(41.6488226, -0.8890853)'},\n",
       " {'COORDENADAS': '(39.9681972, -4.300491)'},\n",
       " {'COORDENADAS': '(42.8179406, -1.6437737)'},\n",
       " {'COORDENADAS': '(18.4860575, -69.93121169999999)'},\n",
       " {'COORDENADAS': '(37.9862674, -1.1356565)'},\n",
       " {'COORDENADAS': '(42.8063155, -1.6451846)'},\n",
       " {'COORDENADAS': '(42.8106738, -1.6393959)'},\n",
       " {'COORDENADAS': '(42.8161499, -1.6471374)'},\n",
       " {'COORDENADAS': '(40.4647193, -3.6759661)'},\n",
       " {'COORDENADAS': '(42.8152341, -1.6481961)'},\n",
       " {'COORDENADAS': '(42.8196199, -1.642544)'},\n",
       " {'COORDENADAS': '(37.17793810000001, -3.5965656)'},\n",
       " {'COORDENADAS': '(42.8180073, -1.6417368)'},\n",
       " {'COORDENADAS': '(40.4240012, -3.6972318)'},\n",
       " {'COORDENADAS': '(20.6295586, -87.0738851)'},\n",
       " {'COORDENADAS': '(42.81100319999999, -1.6430621)'},\n",
       " {'COORDENADAS': '(42.8183014, -1.6421742)'},\n",
       " {'COORDENADAS': '(42.8181555, -1.6437199)'},\n",
       " {'COORDENADAS': '(37.177942, -3.596342399999999)'},\n",
       " {'COORDENADAS': '(19.1734082, -96.2229948)'},\n",
       " {'COORDENADAS': '(42.8162167, -1.6448845)'},\n",
       " {'COORDENADAS': '(42.8190299, -1.6434273)'},\n",
       " {'COORDENADAS': '(38.3678442, -0.5046107)'},\n",
       " {'COORDENADAS': '(42.8181778, -1.6483638)'},\n",
       " {'COORDENADAS': '(42.8268571, -1.652445)'},\n",
       " {'COORDENADAS': '(42.8169233, -1.6450566)'},\n",
       " {'COORDENADAS': '(42.8134875, -1.6403674)'},\n",
       " {'COORDENADAS': '(42.8179406, -1.6437737)'},\n",
       " {'COORDENADAS': '(42.8190096, -1.6412196)'},\n",
       " {'COORDENADAS': '(28.1023007, -15.4169835)'},\n",
       " {'COORDENADAS': '(42.8157012, -1.6459866)'},\n",
       " {'COORDENADAS': '(40.4228745, -3.6982822)'},\n",
       " {'COORDENADAS': '(42.8188821, -1.6453988)'},\n",
       " {'COORDENADAS': '(42.8183219, -1.6427337)'},\n",
       " {'COORDENADAS': '(42.8168252, -1.6415939)'},\n",
       " {'COORDENADAS': '(42.8152901, -1.6459576)'},\n",
       " {'COORDENADAS': '(40.2434604, -3.7674374)'},\n",
       " {'COORDENADAS': '(42.4677227, -2.445485300000001)'},\n",
       " {'COORDENADAS': '(42.4677227, -2.445485300000001)'},\n",
       " {'COORDENADAS': '(36.5308425, -6.2965162)'},\n",
       " {'COORDENADAS': '(36.713465, -4.4307949)'},\n",
       " {'COORDENADAS': '(42.8178567, -1.6425493)'},\n",
       " {'COORDENADAS': '(40.374109, -3.6938056)'},\n",
       " {'COORDENADAS': '(42.817628, -1.6421769)'},\n",
       " {'COORDENADAS': '(42.8175782, -1.6420895)'},\n",
       " {'COORDENADAS': '(42.8165242, -1.641424)'},\n",
       " {'COORDENADAS': '(42.8072572, -1.6638035)'},\n",
       " {'COORDENADAS': '(42.8073889, -1.6639633)'},\n",
       " {'COORDENADAS': '(42.8072373, -1.66378)'},\n",
       " {'COORDENADAS': '(42.8064675, -1.636943)'},\n",
       " {'COORDENADAS': '(42.8162102, -1.6417963)'},\n",
       " {'COORDENADAS': '(43.3060583, -1.9800084)'},\n",
       " {'COORDENADAS': '(42.819304, -1.6416331)'},\n",
       " {'COORDENADAS': '(37.1777623, -3.5975745)'},\n",
       " {'COORDENADAS': '(36.7219985, -4.4206879)'},\n",
       " {'COORDENADAS': '(40.4668743, -3.6742675)'},\n",
       " {'COORDENADAS': '(40.4664286, -3.6745449)'},\n",
       " {'COORDENADAS': '(42.8063859, -1.6633542)'},\n",
       " {'COORDENADAS': '(42.8076818, -1.6611705)'},\n",
       " {'COORDENADAS': '(42.80842699999999, -1.6604504)'},\n",
       " {'COORDENADAS': '(42.8079065, -1.660234)'},\n",
       " {'COORDENADAS': '(42.8083234, -1.6602729)'},\n",
       " {'COORDENADAS': '(40.4664286, -3.6745449)'},\n",
       " {'COORDENADAS': '(42.8079065, -1.660234)'},\n",
       " {'COORDENADAS': '(42.80842699999999, -1.6604504)'},\n",
       " {'COORDENADAS': '(40.466666, -3.6744329)'},\n",
       " {'COORDENADAS': '(42.8083234, -1.6602729)'},\n",
       " {'COORDENADAS': '(42.8065418, -1.6598658)'},\n",
       " {'COORDENADAS': '(40.46646459999999, -3.6747149)'},\n",
       " {'COORDENADAS': '(42.8072955, -1.6636688)'},\n",
       " {'COORDENADAS': '(42.8076818, -1.6611705)'},\n",
       " {'COORDENADAS': '(42.8076818, -1.6611705)'},\n",
       " {'COORDENADAS': '(42.8076818, -1.6611705)'},\n",
       " {'COORDENADAS': '(42.8076818, -1.6611705)'},\n",
       " {'COORDENADAS': '(42.8076683, -1.6604763)'},\n",
       " {'COORDENADAS': '(42.8066239, -1.661705)'},\n",
       " {'COORDENADAS': '(42.808515, -1.6607047)'},\n",
       " {'COORDENADAS': '(40.4662046, -3.6747676)'},\n",
       " {'COORDENADAS': '(42.2870733, -2.539603)'},\n",
       " {'COORDENADAS': '(42.8082378, -1.6609106)'},\n",
       " {'COORDENADAS': '(29.89786179999999, -81.31151870000001)'},\n",
       " {'COORDENADAS': '(42.8187279, -1.6470172)'},\n",
       " {'COORDENADAS': '(18.4860575, -69.93121169999999)'},\n",
       " {'COORDENADAS': '(40.4160472, -3.709144)'},\n",
       " {'COORDENADAS': '(40.4230169, -3.6984903)'},\n",
       " {'COORDENADAS': '(42.8040928, -1.6426389)'},\n",
       " {'COORDENADAS': '(42.8072572, -1.6638035)'},\n",
       " {'COORDENADAS': '(42.8082167, -1.659613)'},\n",
       " {'COORDENADAS': '(42.8169877, -1.6513931)'},\n",
       " {'COORDENADAS': '(42.8077714, -1.6693528)'},\n",
       " {'COORDENADAS': '(40.4464664, -3.8614343)'},\n",
       " {'COORDENADAS': '(42.8186898, -1.645645)'},\n",
       " {'COORDENADAS': '(37.1266813, -96.18398210000001)'},\n",
       " {'COORDENADAS': '(42.8162419, -1.6412106)'},\n",
       " {'COORDENADAS': '(19.313589, -99.03979249999999)'},\n",
       " {'COORDENADAS': '(42.4683159, -2.4463872)'},\n",
       " {'COORDENADAS': '(42.8088851, -1.6370921)'},\n",
       " {'COORDENADAS': '(43.0091774, -1.31951)'},\n",
       " {'COORDENADAS': '(42.8113892, -1.6333088)'},\n",
       " {'COORDENADAS': '(42.8085673, -1.6991552)'},\n",
       " {'COORDENADAS': '(42.8140501, -1.6391087)'},\n",
       " {'COORDENADAS': '(42.8131699, -1.6418244)'},\n",
       " {'COORDENADAS': '(42.8120342, -1.6428475)'},\n",
       " {'COORDENADAS': '(42.800656, -1.6695783)'},\n",
       " {'COORDENADAS': '(40.75857500000001, -73.980023)'},\n",
       " {'COORDENADAS': '(40.4218254, -3.6899761)'},\n",
       " {'COORDENADAS': '(42.8190154, -1.643505)'},\n",
       " {'COORDENADAS': '(42.8063562, -1.6619065)'},\n",
       " {'COORDENADAS': '(40.4190042, -3.7072241)'},\n",
       " {'COORDENADAS': '(42.8115197, -1.6122213)'},\n",
       " {'COORDENADAS': '(42.81861989999999, -1.6427862)'},\n",
       " {'COORDENADAS': '(42.8072955, -1.6636688)'},\n",
       " {'COORDENADAS': '(41.6323149, -0.8832177)'},\n",
       " {'COORDENADAS': '(42.8151522, -1.6625057)'},\n",
       " {'COORDENADAS': '(42.8191976, -1.6427716)'},\n",
       " {'COORDENADAS': '(42.0613816, -1.6063169)'},\n",
       " {'COORDENADAS': '(40.4190042, -3.7072241)'},\n",
       " {'COORDENADAS': '(40.4190042, -3.7072241)'},\n",
       " {'COORDENADAS': '(42.8114463, -1.6638476)'},\n",
       " {'COORDENADAS': '(42.8029016, -1.6705638)'},\n",
       " {'COORDENADAS': '(42.8027729, -1.6704412)'},\n",
       " {'COORDENADAS': '(40.4668743, -3.6742675)'},\n",
       " {'COORDENADAS': '(42.8072572, -1.6638035)'},\n",
       " {'COORDENADAS': '(42.8173049, -1.6445924)'},\n",
       " {'COORDENADAS': '(42.8165519, -1.6452941)'},\n",
       " {'COORDENADAS': '(42.8314377, -1.6123283)'},\n",
       " {'COORDENADAS': '(42.8063859, -1.6633542)'},\n",
       " {'COORDENADAS': '(42.8074875, -1.6369839)'},\n",
       " {'COORDENADAS': '(42.81713389999999, -1.6551422)'},\n",
       " {'COORDENADAS': '(37.7749295, -122.4194155)'},\n",
       " {'COORDENADAS': '(42.826045, -1.6553477)'},\n",
       " {'COORDENADAS': '(42.8186659, -1.6426578)'},\n",
       " {'COORDENADAS': '(42.8186659, -1.6426578)'},\n",
       " {'COORDENADAS': '(42.8186659, -1.6426578)'},\n",
       " {'COORDENADAS': '(42.8186659, -1.6426578)'},\n",
       " {'COORDENADAS': '(42.8186659, -1.6426578)'},\n",
       " {'COORDENADAS': '(42.8186659, -1.6426578)'},\n",
       " {'COORDENADAS': '(42.8186659, -1.6426578)'},\n",
       " {'COORDENADAS': '(42.8186659, -1.6426578)'},\n",
       " {'COORDENADAS': '(42.8063562, -1.6619065)'},\n",
       " {'COORDENADAS': '(42.8188749, -1.6484078)'},\n",
       " {'COORDENADAS': '(42.8068482, -1.660672)'},\n",
       " {'COORDENADAS': '(42.8079065, -1.660234)'},\n",
       " {'COORDENADAS': '(40.466666, -3.6744329)'},\n",
       " {'COORDENADAS': '(42.804931, -1.6340236)'},\n",
       " {'COORDENADAS': '(42.8182474, -1.6426199)'},\n",
       " {'COORDENADAS': '(42.8194052, -1.6431522)'},\n",
       " {'COORDENADAS': '(42.8162835, -1.643353)'},\n",
       " {'COORDENADAS': '(38.3799918, -4.8494264)'},\n",
       " {'COORDENADAS': '(42.5744349, -1.2830851)'},\n",
       " {'COORDENADAS': '(42.0416676, -72.5093212)'},\n",
       " {'COORDENADAS': '(42.6720856, -2.0324524)'},\n",
       " {'COORDENADAS': '(42.8063859, -1.6633542)'},\n",
       " {'COORDENADAS': '(40.5795298, -4.002831899999999)'},\n",
       " {'COORDENADAS': '(42.8200979, -1.668793)'},\n",
       " {'COORDENADAS': '(42.8180445, -1.6488031)'},\n",
       " {'COORDENADAS': '(42.8075325, -1.6644136)'},\n",
       " {'COORDENADAS': '(42.8082074, -1.6691229)'},\n",
       " {'COORDENADAS': '(42.8109536, -1.6312174)'},\n",
       " {'COORDENADAS': '(42.8194947, -1.6422487)'},\n",
       " {'COORDENADAS': '(42.8179998, -1.6439475)'},\n",
       " {'COORDENADAS': '(42.8179791, -1.6427337)'},\n",
       " {'COORDENADAS': '(42.81914070000001, -1.6430005)'},\n",
       " {'COORDENADAS': '(42.81411490000001, -1.6583171)'},\n",
       " {'COORDENADAS': '(42.8184418, -1.6450096)'},\n",
       " {'COORDENADAS': '(42.8113563, -1.6427284)'},\n",
       " {'COORDENADAS': '(40.3728228, -3.6921908)'},\n",
       " {'COORDENADAS': '(42.81858, -1.6426673)'},\n",
       " {'COORDENADAS': '(42.8184342, -1.6435397)'},\n",
       " {'COORDENADAS': '(42.8148384, -1.6393884)'},\n",
       " {'COORDENADAS': '(42.8154203, -1.6507556)'},\n",
       " {'COORDENADAS': '(42.81832259999999, -1.6404835)'},\n",
       " {'COORDENADAS': '(42.81870809999999, -1.6437009)'},\n",
       " {'COORDENADAS': '(42.7988333, -1.6769801)'},\n",
       " {'COORDENADAS': '(42.7988333, -1.6769801)'},\n",
       " {'COORDENADAS': '(42.808476, -1.6505293)'},\n",
       " {'COORDENADAS': '(42.8171332, -1.6445952)'},\n",
       " {'COORDENADAS': '(42.8138204, -1.6351481)'},\n",
       " {'COORDENADAS': '(17.1575607, -89.0704563)'},\n",
       " {'COORDENADAS': '(42.481425, -1.6509768)'},\n",
       " {'COORDENADAS': '(42.818712, -1.6408823)'}]"
      ]
     },
     "execution_count": 247,
     "metadata": {},
     "output_type": "execute_result"
    }
   ],
   "source": [
    "locali_colec_coord(\"Alojamiento\")"
   ]
  },
  {
   "cell_type": "code",
   "execution_count": 340,
   "id": "above-force",
   "metadata": {},
   "outputs": [
    {
     "name": "stdout",
     "output_type": "stream",
     "text": [
      "Localidad: Pamplona\n"
     ]
    },
    {
     "data": {
      "text/plain": [
       "[]"
      ]
     },
     "execution_count": 340,
     "metadata": {},
     "output_type": "execute_result"
    }
   ],
   "source": [
    "locali_colec_coord(\"Alojamiento\")"
   ]
  },
  {
   "cell_type": "code",
   "execution_count": 236,
   "id": "impaired-season",
   "metadata": {},
   "outputs": [],
   "source": [
    "\"\"\"\n",
    "def locali_colec_coord2(poblacion, coleccion):\n",
    "   \n",
    "    query = {\"LOCALIDAD\":f\"{poblacion}\"}\n",
    "    bbdd = db[f'{coleccion}']\n",
    "    coordenadas = list(bbdd.find(query,{\"_id\":0,\"COORDENADAS\":1}))\n",
    "    return coordenadas\n",
    "\"\"\""
   ]
  },
  {
   "cell_type": "code",
   "execution_count": 238,
   "id": "undefined-printer",
   "metadata": {},
   "outputs": [
    {
     "data": {
      "text/plain": [
       "[{'COORDENADAS': '(42.81825260000001, -1.6420324)'},\n",
       " {'COORDENADAS': '(42.8072773, -1.6649481)'},\n",
       " {'COORDENADAS': '(42.8085463, -1.6607907)'},\n",
       " {'COORDENADAS': '(42.8082357, -1.6662554)'},\n",
       " {'COORDENADAS': '(42.8045626, -1.6524894)'},\n",
       " {'COORDENADAS': '(42.80842699999999, -1.6604504)'},\n",
       " {'COORDENADAS': '(42.8063859, -1.6633542)'},\n",
       " {'COORDENADAS': '(42.8196562, -1.6420518)'},\n",
       " {'COORDENADAS': '(42.8097535, -1.669261)'},\n",
       " {'COORDENADAS': '(40.4241122, -3.6969734)'},\n",
       " {'COORDENADAS': '(42.8197515, -1.6239049)'},\n",
       " {'COORDENADAS': '(42.8175568, -1.6429613)'},\n",
       " {'COORDENADAS': '(42.5767441, -1.2851532)'},\n",
       " {'COORDENADAS': '(42.8063562, -1.6619065)'},\n",
       " {'COORDENADAS': '(42.1374328, -0.4051738)'},\n",
       " {'COORDENADAS': '(42.8082357, -1.6662554)'},\n",
       " {'COORDENADAS': '(42.8186914, -1.6428518)'},\n",
       " {'COORDENADAS': '(19.1734082, -96.2229948)'},\n",
       " {'COORDENADAS': '(41.5014195, -5.7464561)'},\n",
       " {'COORDENADAS': '(42.8177134, -1.6449143)'},\n",
       " {'COORDENADAS': '(42.8191138, -1.6412975)'},\n",
       " {'COORDENADAS': '(40.2414307, -3.7682513)'},\n",
       " {'COORDENADAS': '(42.8163203, -1.6437566)'},\n",
       " {'COORDENADAS': '(41.6488226, -0.8890853)'},\n",
       " {'COORDENADAS': '(40.3719395, -3.6920885)'},\n",
       " {'COORDENADAS': '(42.8049216, -1.6457672)'},\n",
       " {'COORDENADAS': '(42.7855575, -1.6882181)'},\n",
       " {'COORDENADAS': '(41.6488226, -0.8890853)'},\n",
       " {'COORDENADAS': '(39.9681972, -4.300491)'},\n",
       " {'COORDENADAS': '(42.8179406, -1.6437737)'},\n",
       " {'COORDENADAS': '(18.4860575, -69.93121169999999)'},\n",
       " {'COORDENADAS': '(37.9862674, -1.1356565)'},\n",
       " {'COORDENADAS': '(42.8063155, -1.6451846)'},\n",
       " {'COORDENADAS': '(42.8106738, -1.6393959)'},\n",
       " {'COORDENADAS': '(42.8161499, -1.6471374)'},\n",
       " {'COORDENADAS': '(40.4647193, -3.6759661)'},\n",
       " {'COORDENADAS': '(42.8152341, -1.6481961)'},\n",
       " {'COORDENADAS': '(42.8196199, -1.642544)'},\n",
       " {'COORDENADAS': '(37.17793810000001, -3.5965656)'},\n",
       " {'COORDENADAS': '(42.8180073, -1.6417368)'},\n",
       " {'COORDENADAS': '(40.4240012, -3.6972318)'},\n",
       " {'COORDENADAS': '(20.6295586, -87.0738851)'},\n",
       " {'COORDENADAS': '(42.81100319999999, -1.6430621)'},\n",
       " {'COORDENADAS': '(42.8183014, -1.6421742)'},\n",
       " {'COORDENADAS': '(42.8181555, -1.6437199)'},\n",
       " {'COORDENADAS': '(37.177942, -3.596342399999999)'},\n",
       " {'COORDENADAS': '(19.1734082, -96.2229948)'},\n",
       " {'COORDENADAS': '(42.8162167, -1.6448845)'},\n",
       " {'COORDENADAS': '(42.8190299, -1.6434273)'},\n",
       " {'COORDENADAS': '(38.3678442, -0.5046107)'},\n",
       " {'COORDENADAS': '(42.8181778, -1.6483638)'},\n",
       " {'COORDENADAS': '(42.8268571, -1.652445)'},\n",
       " {'COORDENADAS': '(42.8169233, -1.6450566)'},\n",
       " {'COORDENADAS': '(42.8134875, -1.6403674)'},\n",
       " {'COORDENADAS': '(42.8179406, -1.6437737)'},\n",
       " {'COORDENADAS': '(42.8190096, -1.6412196)'},\n",
       " {'COORDENADAS': '(28.1023007, -15.4169835)'},\n",
       " {'COORDENADAS': '(42.8157012, -1.6459866)'},\n",
       " {'COORDENADAS': '(40.4228745, -3.6982822)'},\n",
       " {'COORDENADAS': '(42.8188821, -1.6453988)'},\n",
       " {'COORDENADAS': '(42.8183219, -1.6427337)'},\n",
       " {'COORDENADAS': '(42.8168252, -1.6415939)'},\n",
       " {'COORDENADAS': '(42.8152901, -1.6459576)'},\n",
       " {'COORDENADAS': '(40.2434604, -3.7674374)'},\n",
       " {'COORDENADAS': '(42.4677227, -2.445485300000001)'},\n",
       " {'COORDENADAS': '(42.4677227, -2.445485300000001)'},\n",
       " {'COORDENADAS': '(36.5308425, -6.2965162)'},\n",
       " {'COORDENADAS': '(36.713465, -4.4307949)'},\n",
       " {'COORDENADAS': '(42.8178567, -1.6425493)'},\n",
       " {'COORDENADAS': '(40.374109, -3.6938056)'},\n",
       " {'COORDENADAS': '(42.817628, -1.6421769)'},\n",
       " {'COORDENADAS': '(42.8175782, -1.6420895)'},\n",
       " {'COORDENADAS': '(42.8165242, -1.641424)'},\n",
       " {'COORDENADAS': '(42.8072572, -1.6638035)'},\n",
       " {'COORDENADAS': '(42.8073889, -1.6639633)'},\n",
       " {'COORDENADAS': '(42.8072373, -1.66378)'},\n",
       " {'COORDENADAS': '(42.8064675, -1.636943)'},\n",
       " {'COORDENADAS': '(42.8162102, -1.6417963)'},\n",
       " {'COORDENADAS': '(43.3060583, -1.9800084)'},\n",
       " {'COORDENADAS': '(42.819304, -1.6416331)'},\n",
       " {'COORDENADAS': '(37.1777623, -3.5975745)'},\n",
       " {'COORDENADAS': '(36.7219985, -4.4206879)'},\n",
       " {'COORDENADAS': '(40.4668743, -3.6742675)'},\n",
       " {'COORDENADAS': '(40.4664286, -3.6745449)'},\n",
       " {'COORDENADAS': '(42.8063859, -1.6633542)'},\n",
       " {'COORDENADAS': '(42.8076818, -1.6611705)'},\n",
       " {'COORDENADAS': '(42.80842699999999, -1.6604504)'},\n",
       " {'COORDENADAS': '(42.8079065, -1.660234)'},\n",
       " {'COORDENADAS': '(42.8083234, -1.6602729)'},\n",
       " {'COORDENADAS': '(40.4664286, -3.6745449)'},\n",
       " {'COORDENADAS': '(42.8079065, -1.660234)'},\n",
       " {'COORDENADAS': '(42.80842699999999, -1.6604504)'},\n",
       " {'COORDENADAS': '(40.466666, -3.6744329)'},\n",
       " {'COORDENADAS': '(42.8083234, -1.6602729)'},\n",
       " {'COORDENADAS': '(42.8065418, -1.6598658)'},\n",
       " {'COORDENADAS': '(40.46646459999999, -3.6747149)'},\n",
       " {'COORDENADAS': '(42.8072955, -1.6636688)'},\n",
       " {'COORDENADAS': '(42.8076818, -1.6611705)'},\n",
       " {'COORDENADAS': '(42.8076818, -1.6611705)'},\n",
       " {'COORDENADAS': '(42.8076818, -1.6611705)'},\n",
       " {'COORDENADAS': '(42.8076818, -1.6611705)'},\n",
       " {'COORDENADAS': '(42.8076683, -1.6604763)'},\n",
       " {'COORDENADAS': '(42.8066239, -1.661705)'},\n",
       " {'COORDENADAS': '(42.808515, -1.6607047)'},\n",
       " {'COORDENADAS': '(40.4662046, -3.6747676)'},\n",
       " {'COORDENADAS': '(42.2870733, -2.539603)'},\n",
       " {'COORDENADAS': '(42.8082378, -1.6609106)'},\n",
       " {'COORDENADAS': '(29.89786179999999, -81.31151870000001)'},\n",
       " {'COORDENADAS': '(42.8187279, -1.6470172)'},\n",
       " {'COORDENADAS': '(18.4860575, -69.93121169999999)'},\n",
       " {'COORDENADAS': '(40.4160472, -3.709144)'},\n",
       " {'COORDENADAS': '(40.4230169, -3.6984903)'},\n",
       " {'COORDENADAS': '(42.8040928, -1.6426389)'},\n",
       " {'COORDENADAS': '(42.8072572, -1.6638035)'},\n",
       " {'COORDENADAS': '(42.8082167, -1.659613)'},\n",
       " {'COORDENADAS': '(42.8169877, -1.6513931)'},\n",
       " {'COORDENADAS': '(42.8077714, -1.6693528)'},\n",
       " {'COORDENADAS': '(40.4464664, -3.8614343)'},\n",
       " {'COORDENADAS': '(42.8186898, -1.645645)'},\n",
       " {'COORDENADAS': '(37.1266813, -96.18398210000001)'},\n",
       " {'COORDENADAS': '(42.8162419, -1.6412106)'},\n",
       " {'COORDENADAS': '(19.313589, -99.03979249999999)'},\n",
       " {'COORDENADAS': '(42.4683159, -2.4463872)'},\n",
       " {'COORDENADAS': '(42.8088851, -1.6370921)'},\n",
       " {'COORDENADAS': '(43.0091774, -1.31951)'},\n",
       " {'COORDENADAS': '(42.8113892, -1.6333088)'},\n",
       " {'COORDENADAS': '(42.8085673, -1.6991552)'},\n",
       " {'COORDENADAS': '(42.8140501, -1.6391087)'},\n",
       " {'COORDENADAS': '(42.8131699, -1.6418244)'},\n",
       " {'COORDENADAS': '(42.8120342, -1.6428475)'},\n",
       " {'COORDENADAS': '(42.800656, -1.6695783)'},\n",
       " {'COORDENADAS': '(40.75857500000001, -73.980023)'},\n",
       " {'COORDENADAS': '(40.4218254, -3.6899761)'},\n",
       " {'COORDENADAS': '(42.8190154, -1.643505)'},\n",
       " {'COORDENADAS': '(42.8063562, -1.6619065)'},\n",
       " {'COORDENADAS': '(40.4190042, -3.7072241)'},\n",
       " {'COORDENADAS': '(42.8115197, -1.6122213)'},\n",
       " {'COORDENADAS': '(42.81861989999999, -1.6427862)'},\n",
       " {'COORDENADAS': '(42.8072955, -1.6636688)'},\n",
       " {'COORDENADAS': '(41.6323149, -0.8832177)'},\n",
       " {'COORDENADAS': '(42.8151522, -1.6625057)'},\n",
       " {'COORDENADAS': '(42.8191976, -1.6427716)'},\n",
       " {'COORDENADAS': '(42.0613816, -1.6063169)'},\n",
       " {'COORDENADAS': '(40.4190042, -3.7072241)'},\n",
       " {'COORDENADAS': '(40.4190042, -3.7072241)'},\n",
       " {'COORDENADAS': '(42.8114463, -1.6638476)'},\n",
       " {'COORDENADAS': '(42.8029016, -1.6705638)'},\n",
       " {'COORDENADAS': '(42.8027729, -1.6704412)'},\n",
       " {'COORDENADAS': '(40.4668743, -3.6742675)'},\n",
       " {'COORDENADAS': '(42.8072572, -1.6638035)'},\n",
       " {'COORDENADAS': '(42.8173049, -1.6445924)'},\n",
       " {'COORDENADAS': '(42.8165519, -1.6452941)'},\n",
       " {'COORDENADAS': '(42.8314377, -1.6123283)'},\n",
       " {'COORDENADAS': '(42.8063859, -1.6633542)'},\n",
       " {'COORDENADAS': '(42.8074875, -1.6369839)'},\n",
       " {'COORDENADAS': '(42.81713389999999, -1.6551422)'},\n",
       " {'COORDENADAS': '(37.7749295, -122.4194155)'},\n",
       " {'COORDENADAS': '(42.826045, -1.6553477)'},\n",
       " {'COORDENADAS': '(42.8186659, -1.6426578)'},\n",
       " {'COORDENADAS': '(42.8186659, -1.6426578)'},\n",
       " {'COORDENADAS': '(42.8186659, -1.6426578)'},\n",
       " {'COORDENADAS': '(42.8186659, -1.6426578)'},\n",
       " {'COORDENADAS': '(42.8186659, -1.6426578)'},\n",
       " {'COORDENADAS': '(42.8186659, -1.6426578)'},\n",
       " {'COORDENADAS': '(42.8186659, -1.6426578)'},\n",
       " {'COORDENADAS': '(42.8186659, -1.6426578)'},\n",
       " {'COORDENADAS': '(42.8063562, -1.6619065)'},\n",
       " {'COORDENADAS': '(42.8188749, -1.6484078)'},\n",
       " {'COORDENADAS': '(42.8068482, -1.660672)'},\n",
       " {'COORDENADAS': '(42.8079065, -1.660234)'},\n",
       " {'COORDENADAS': '(40.466666, -3.6744329)'},\n",
       " {'COORDENADAS': '(42.804931, -1.6340236)'},\n",
       " {'COORDENADAS': '(42.8182474, -1.6426199)'},\n",
       " {'COORDENADAS': '(42.8194052, -1.6431522)'},\n",
       " {'COORDENADAS': '(42.8162835, -1.643353)'},\n",
       " {'COORDENADAS': '(38.3799918, -4.8494264)'},\n",
       " {'COORDENADAS': '(42.5744349, -1.2830851)'},\n",
       " {'COORDENADAS': '(42.0416676, -72.5093212)'},\n",
       " {'COORDENADAS': '(42.6720856, -2.0324524)'},\n",
       " {'COORDENADAS': '(42.8063859, -1.6633542)'},\n",
       " {'COORDENADAS': '(40.5795298, -4.002831899999999)'},\n",
       " {'COORDENADAS': '(42.8200979, -1.668793)'},\n",
       " {'COORDENADAS': '(42.8180445, -1.6488031)'},\n",
       " {'COORDENADAS': '(42.8075325, -1.6644136)'},\n",
       " {'COORDENADAS': '(42.8082074, -1.6691229)'},\n",
       " {'COORDENADAS': '(42.8109536, -1.6312174)'},\n",
       " {'COORDENADAS': '(42.8194947, -1.6422487)'},\n",
       " {'COORDENADAS': '(42.8179998, -1.6439475)'},\n",
       " {'COORDENADAS': '(42.8179791, -1.6427337)'},\n",
       " {'COORDENADAS': '(42.81914070000001, -1.6430005)'},\n",
       " {'COORDENADAS': '(42.81411490000001, -1.6583171)'},\n",
       " {'COORDENADAS': '(42.8184418, -1.6450096)'},\n",
       " {'COORDENADAS': '(42.8113563, -1.6427284)'},\n",
       " {'COORDENADAS': '(40.3728228, -3.6921908)'},\n",
       " {'COORDENADAS': '(42.81858, -1.6426673)'},\n",
       " {'COORDENADAS': '(42.8184342, -1.6435397)'},\n",
       " {'COORDENADAS': '(42.8148384, -1.6393884)'},\n",
       " {'COORDENADAS': '(42.8154203, -1.6507556)'},\n",
       " {'COORDENADAS': '(42.81832259999999, -1.6404835)'},\n",
       " {'COORDENADAS': '(42.81870809999999, -1.6437009)'},\n",
       " {'COORDENADAS': '(42.7988333, -1.6769801)'},\n",
       " {'COORDENADAS': '(42.7988333, -1.6769801)'},\n",
       " {'COORDENADAS': '(42.808476, -1.6505293)'},\n",
       " {'COORDENADAS': '(42.8171332, -1.6445952)'},\n",
       " {'COORDENADAS': '(42.8138204, -1.6351481)'},\n",
       " {'COORDENADAS': '(17.1575607, -89.0704563)'},\n",
       " {'COORDENADAS': '(42.481425, -1.6509768)'},\n",
       " {'COORDENADAS': '(42.818712, -1.6408823)'}]"
      ]
     },
     "execution_count": 238,
     "metadata": {},
     "output_type": "execute_result"
    }
   ],
   "source": [
    "locali_colec_coord2(\"PAMPLONA\", \"Alojamiento\")"
   ]
  },
  {
   "cell_type": "code",
   "execution_count": 202,
   "id": "naughty-grave",
   "metadata": {},
   "outputs": [],
   "source": [
    "def mapa(lat, lon):\n",
    "    mapa = folium.Map(location = [lat, lon], zoom_start=20)\n",
    "    return mapa"
   ]
  },
  {
   "cell_type": "code",
   "execution_count": 294,
   "id": "brutal-testament",
   "metadata": {},
   "outputs": [],
   "source": [
    "a = {'COORDENADAS': '(42.8191138, -1.6412975)'}"
   ]
  },
  {
   "cell_type": "code",
   "execution_count": 295,
   "id": "nasty-mining",
   "metadata": {},
   "outputs": [
    {
     "data": {
      "text/plain": [
       "dict_values"
      ]
     },
     "execution_count": 295,
     "metadata": {},
     "output_type": "execute_result"
    }
   ],
   "source": [
    "b = a.values()\n",
    "type(b)"
   ]
  },
  {
   "cell_type": "code",
   "execution_count": 296,
   "id": "needed-radius",
   "metadata": {},
   "outputs": [],
   "source": [
    "b = list(b)"
   ]
  },
  {
   "cell_type": "code",
   "execution_count": 298,
   "id": "unavailable-chuck",
   "metadata": {},
   "outputs": [
    {
     "data": {
      "text/plain": [
       "' -1.6412975'"
      ]
     },
     "execution_count": 298,
     "metadata": {},
     "output_type": "execute_result"
    }
   ],
   "source": [
    "b"
   ]
  },
  {
   "cell_type": "code",
   "execution_count": 292,
   "id": "infinite-layout",
   "metadata": {},
   "outputs": [],
   "source": [
    "b = b[0].split(\",\")[0][1:]\n"
   ]
  },
  {
   "cell_type": "code",
   "execution_count": 336,
   "id": "perceived-relief",
   "metadata": {},
   "outputs": [],
   "source": [
    "def mapa (localidad, coleccion):\n",
    "    \n",
    "    \"\"\"\n",
    "    Función creada para mostrar en un mapa la información relacionada con cada colección dependiendo de la localidad\n",
    "    \n",
    "    input : localidad y colección\n",
    "    output : mapa\n",
    "    \n",
    "    \n",
    "    \"\"\"\n",
    "    \n",
    "    \n",
    "    punto_inicio = localidad(localidad)\n",
    "\n",
    "    query = locali_colec_coord(coleccion)\n",
    "    \n",
    "    mapa = folium.Map(location = punto_inicio, zoom_start=20)\n",
    "    \n",
    "    \n",
    "    #CREAR ICONOS PARA CADA COLECCIÓN. CREAR UN DICCIONARIO CON LOS ICONOS.\n",
    "  \"\"\"  \n",
    "    #iconos = {\"Alojamiento\": \n",
    "    \n",
    "                icono = Icon(color = \"blue\",\n",
    "                prefix = \"fa\",\n",
    "                icon = \"hotel\",\n",
    "                icon_color = \"black\"),\n",
    "                    \n",
    "                \"Patrimonio\":\n",
    "                \n",
    "                icono = Icon(color = \"orange\",\n",
    "                prefix = \"fa\",\n",
    "                icon = \"camera\",\n",
    "                icon_color = \"black\"),\n",
    "                \n",
    "                 \"Restauracion\": \n",
    "                 \n",
    "                icono = Icon(color = \"green\",\n",
    "                prefix = \"fa\",\n",
    "                icon = \"spoon\",\n",
    "                icon_color = \"black\")\n",
    "                 \n",
    "                 \n",
    "                 \n",
    "                 }\n",
    "\"\"\"\n",
    "    for cada_entrada in query:\n",
    "        coordenadas = list(cada_entrada.values())\n",
    "        lat = coordenadas[0].split(\",\")[0][1:]\n",
    "        lon = coordenadas[0].split(\",\")[1][:-1]\n",
    "\n",
    "        icono = Icon(color = \"blue\",\n",
    "             prefix = \"fa\",\n",
    "             icon = \"hotel\",\n",
    "                icon_color = \"black\")\n",
    "                         \n",
    "        loc = {\"location\":[lat,lon],\n",
    "          \"tooltip\": f\"{coleccion}\"}\n",
    "\n",
    "        marker_of = Marker(**loc, icon = icono, popup=\"Hotel\")\n",
    "        marker_of.add_to(mapa)\n",
    "    \n",
    "    return mapa"
   ]
  },
  {
   "cell_type": "code",
   "execution_count": 341,
   "id": "acting-chase",
   "metadata": {},
   "outputs": [
    {
     "ename": "TypeError",
     "evalue": "'str' object is not callable",
     "output_type": "error",
     "traceback": [
      "\u001b[0;31m---------------------------------------------------------------------------\u001b[0m",
      "\u001b[0;31mTypeError\u001b[0m                                 Traceback (most recent call last)",
      "\u001b[0;32m<ipython-input-341-d78aa8f768cd>\u001b[0m in \u001b[0;36m<module>\u001b[0;34m\u001b[0m\n\u001b[0;32m----> 1\u001b[0;31m \u001b[0mmapa\u001b[0m\u001b[0;34m(\u001b[0m\u001b[0;34m\"PAMPLONA\"\u001b[0m\u001b[0;34m,\u001b[0m \u001b[0;34m\"Alojamiento\"\u001b[0m\u001b[0;34m)\u001b[0m\u001b[0;34m\u001b[0m\u001b[0;34m\u001b[0m\u001b[0m\n\u001b[0m",
      "\u001b[0;32m<ipython-input-336-40401b426c9f>\u001b[0m in \u001b[0;36mmapa\u001b[0;34m(localidad, coleccion)\u001b[0m\n\u001b[1;32m      1\u001b[0m \u001b[0;32mdef\u001b[0m \u001b[0mmapa\u001b[0m \u001b[0;34m(\u001b[0m\u001b[0mlocalidad\u001b[0m\u001b[0;34m,\u001b[0m \u001b[0mcoleccion\u001b[0m\u001b[0;34m)\u001b[0m\u001b[0;34m:\u001b[0m\u001b[0;34m\u001b[0m\u001b[0;34m\u001b[0m\u001b[0m\n\u001b[1;32m      2\u001b[0m \u001b[0;34m\u001b[0m\u001b[0m\n\u001b[0;32m----> 3\u001b[0;31m     \u001b[0mpunto_inicio\u001b[0m \u001b[0;34m=\u001b[0m \u001b[0mlocalidad\u001b[0m\u001b[0;34m(\u001b[0m\u001b[0mlocalidad\u001b[0m\u001b[0;34m)\u001b[0m\u001b[0;34m\u001b[0m\u001b[0;34m\u001b[0m\u001b[0m\n\u001b[0m\u001b[1;32m      4\u001b[0m \u001b[0;34m\u001b[0m\u001b[0m\n\u001b[1;32m      5\u001b[0m     \u001b[0mquery\u001b[0m \u001b[0;34m=\u001b[0m \u001b[0mlocali_colec_coord\u001b[0m\u001b[0;34m(\u001b[0m\u001b[0mcoleccion\u001b[0m\u001b[0;34m)\u001b[0m\u001b[0;34m\u001b[0m\u001b[0;34m\u001b[0m\u001b[0m\n",
      "\u001b[0;31mTypeError\u001b[0m: 'str' object is not callable"
     ]
    }
   ],
   "source": [
    "mapa(\"PAMPLONA\", \"Alojamiento\")"
   ]
  },
  {
   "cell_type": "code",
   "execution_count": 337,
   "id": "united-arabic",
   "metadata": {},
   "outputs": [
    {
     "ename": "TypeError",
     "evalue": "'str' object is not callable",
     "output_type": "error",
     "traceback": [
      "\u001b[0;31m---------------------------------------------------------------------------\u001b[0m",
      "\u001b[0;31mTypeError\u001b[0m                                 Traceback (most recent call last)",
      "\u001b[0;32m<ipython-input-337-d78aa8f768cd>\u001b[0m in \u001b[0;36m<module>\u001b[0;34m\u001b[0m\n\u001b[0;32m----> 1\u001b[0;31m \u001b[0mmapa\u001b[0m\u001b[0;34m(\u001b[0m\u001b[0;34m\"PAMPLONA\"\u001b[0m\u001b[0;34m,\u001b[0m \u001b[0;34m\"Alojamiento\"\u001b[0m\u001b[0;34m)\u001b[0m\u001b[0;34m\u001b[0m\u001b[0;34m\u001b[0m\u001b[0m\n\u001b[0m",
      "\u001b[0;32m<ipython-input-336-40401b426c9f>\u001b[0m in \u001b[0;36mmapa\u001b[0;34m(localidad, coleccion)\u001b[0m\n\u001b[1;32m      1\u001b[0m \u001b[0;32mdef\u001b[0m \u001b[0mmapa\u001b[0m \u001b[0;34m(\u001b[0m\u001b[0mlocalidad\u001b[0m\u001b[0;34m,\u001b[0m \u001b[0mcoleccion\u001b[0m\u001b[0;34m)\u001b[0m\u001b[0;34m:\u001b[0m\u001b[0;34m\u001b[0m\u001b[0;34m\u001b[0m\u001b[0m\n\u001b[1;32m      2\u001b[0m \u001b[0;34m\u001b[0m\u001b[0m\n\u001b[0;32m----> 3\u001b[0;31m     \u001b[0mpunto_inicio\u001b[0m \u001b[0;34m=\u001b[0m \u001b[0mlocalidad\u001b[0m\u001b[0;34m(\u001b[0m\u001b[0mlocalidad\u001b[0m\u001b[0;34m)\u001b[0m\u001b[0;34m\u001b[0m\u001b[0;34m\u001b[0m\u001b[0m\n\u001b[0m\u001b[1;32m      4\u001b[0m \u001b[0;34m\u001b[0m\u001b[0m\n\u001b[1;32m      5\u001b[0m     \u001b[0mquery\u001b[0m \u001b[0;34m=\u001b[0m \u001b[0mlocali_colec_coord\u001b[0m\u001b[0;34m(\u001b[0m\u001b[0mcoleccion\u001b[0m\u001b[0;34m)\u001b[0m\u001b[0;34m\u001b[0m\u001b[0;34m\u001b[0m\u001b[0m\n",
      "\u001b[0;31mTypeError\u001b[0m: 'str' object is not callable"
     ]
    }
   ],
   "source": [
    "mapa(\"PAMPLONA\", \"Alojamiento\")"
   ]
  },
  {
   "cell_type": "code",
   "execution_count": 204,
   "id": "steady-evening",
   "metadata": {
    "scrolled": true
   },
   "outputs": [
    {
     "data": {
      "text/html": [
       "<div style=\"width:100%;\"><div style=\"position:relative;width:100%;height:0;padding-bottom:60%;\"><span style=\"color:#565656\">Make this Notebook Trusted to load map: File -> Trust Notebook</span><iframe src=\"about:blank\" style=\"position:absolute;width:100%;height:100%;left:0;top:0;border:none !important;\" data-html=%3C%21DOCTYPE%20html%3E%0A%3Chead%3E%20%20%20%20%0A%20%20%20%20%3Cmeta%20http-equiv%3D%22content-type%22%20content%3D%22text/html%3B%20charset%3DUTF-8%22%20/%3E%0A%20%20%20%20%0A%20%20%20%20%20%20%20%20%3Cscript%3E%0A%20%20%20%20%20%20%20%20%20%20%20%20L_NO_TOUCH%20%3D%20false%3B%0A%20%20%20%20%20%20%20%20%20%20%20%20L_DISABLE_3D%20%3D%20false%3B%0A%20%20%20%20%20%20%20%20%3C/script%3E%0A%20%20%20%20%0A%20%20%20%20%3Cstyle%3Ehtml%2C%20body%20%7Bwidth%3A%20100%25%3Bheight%3A%20100%25%3Bmargin%3A%200%3Bpadding%3A%200%3B%7D%3C/style%3E%0A%20%20%20%20%3Cstyle%3E%23map%20%7Bposition%3Aabsolute%3Btop%3A0%3Bbottom%3A0%3Bright%3A0%3Bleft%3A0%3B%7D%3C/style%3E%0A%20%20%20%20%3Cscript%20src%3D%22https%3A//cdn.jsdelivr.net/npm/leaflet%401.6.0/dist/leaflet.js%22%3E%3C/script%3E%0A%20%20%20%20%3Cscript%20src%3D%22https%3A//code.jquery.com/jquery-1.12.4.min.js%22%3E%3C/script%3E%0A%20%20%20%20%3Cscript%20src%3D%22https%3A//maxcdn.bootstrapcdn.com/bootstrap/3.2.0/js/bootstrap.min.js%22%3E%3C/script%3E%0A%20%20%20%20%3Cscript%20src%3D%22https%3A//cdnjs.cloudflare.com/ajax/libs/Leaflet.awesome-markers/2.0.2/leaflet.awesome-markers.js%22%3E%3C/script%3E%0A%20%20%20%20%3Clink%20rel%3D%22stylesheet%22%20href%3D%22https%3A//cdn.jsdelivr.net/npm/leaflet%401.6.0/dist/leaflet.css%22/%3E%0A%20%20%20%20%3Clink%20rel%3D%22stylesheet%22%20href%3D%22https%3A//maxcdn.bootstrapcdn.com/bootstrap/3.2.0/css/bootstrap.min.css%22/%3E%0A%20%20%20%20%3Clink%20rel%3D%22stylesheet%22%20href%3D%22https%3A//maxcdn.bootstrapcdn.com/bootstrap/3.2.0/css/bootstrap-theme.min.css%22/%3E%0A%20%20%20%20%3Clink%20rel%3D%22stylesheet%22%20href%3D%22https%3A//maxcdn.bootstrapcdn.com/font-awesome/4.6.3/css/font-awesome.min.css%22/%3E%0A%20%20%20%20%3Clink%20rel%3D%22stylesheet%22%20href%3D%22https%3A//cdnjs.cloudflare.com/ajax/libs/Leaflet.awesome-markers/2.0.2/leaflet.awesome-markers.css%22/%3E%0A%20%20%20%20%3Clink%20rel%3D%22stylesheet%22%20href%3D%22https%3A//cdn.jsdelivr.net/gh/python-visualization/folium/folium/templates/leaflet.awesome.rotate.min.css%22/%3E%0A%20%20%20%20%0A%20%20%20%20%20%20%20%20%20%20%20%20%3Cmeta%20name%3D%22viewport%22%20content%3D%22width%3Ddevice-width%2C%0A%20%20%20%20%20%20%20%20%20%20%20%20%20%20%20%20initial-scale%3D1.0%2C%20maximum-scale%3D1.0%2C%20user-scalable%3Dno%22%20/%3E%0A%20%20%20%20%20%20%20%20%20%20%20%20%3Cstyle%3E%0A%20%20%20%20%20%20%20%20%20%20%20%20%20%20%20%20%23map_31bb380f07014206a70ea45aa4cdaca7%20%7B%0A%20%20%20%20%20%20%20%20%20%20%20%20%20%20%20%20%20%20%20%20position%3A%20relative%3B%0A%20%20%20%20%20%20%20%20%20%20%20%20%20%20%20%20%20%20%20%20width%3A%20100.0%25%3B%0A%20%20%20%20%20%20%20%20%20%20%20%20%20%20%20%20%20%20%20%20height%3A%20100.0%25%3B%0A%20%20%20%20%20%20%20%20%20%20%20%20%20%20%20%20%20%20%20%20left%3A%200.0%25%3B%0A%20%20%20%20%20%20%20%20%20%20%20%20%20%20%20%20%20%20%20%20top%3A%200.0%25%3B%0A%20%20%20%20%20%20%20%20%20%20%20%20%20%20%20%20%7D%0A%20%20%20%20%20%20%20%20%20%20%20%20%3C/style%3E%0A%20%20%20%20%20%20%20%20%0A%3C/head%3E%0A%3Cbody%3E%20%20%20%20%0A%20%20%20%20%0A%20%20%20%20%20%20%20%20%20%20%20%20%3Cdiv%20class%3D%22folium-map%22%20id%3D%22map_31bb380f07014206a70ea45aa4cdaca7%22%20%3E%3C/div%3E%0A%20%20%20%20%20%20%20%20%0A%3C/body%3E%0A%3Cscript%3E%20%20%20%20%0A%20%20%20%20%0A%20%20%20%20%20%20%20%20%20%20%20%20var%20map_31bb380f07014206a70ea45aa4cdaca7%20%3D%20L.map%28%0A%20%20%20%20%20%20%20%20%20%20%20%20%20%20%20%20%22map_31bb380f07014206a70ea45aa4cdaca7%22%2C%0A%20%20%20%20%20%20%20%20%20%20%20%20%20%20%20%20%7B%0A%20%20%20%20%20%20%20%20%20%20%20%20%20%20%20%20%20%20%20%20center%3A%20%5B42.6711661%2C%20-1.8188069%5D%2C%0A%20%20%20%20%20%20%20%20%20%20%20%20%20%20%20%20%20%20%20%20crs%3A%20L.CRS.EPSG3857%2C%0A%20%20%20%20%20%20%20%20%20%20%20%20%20%20%20%20%20%20%20%20zoom%3A%2020%2C%0A%20%20%20%20%20%20%20%20%20%20%20%20%20%20%20%20%20%20%20%20zoomControl%3A%20true%2C%0A%20%20%20%20%20%20%20%20%20%20%20%20%20%20%20%20%20%20%20%20preferCanvas%3A%20false%2C%0A%20%20%20%20%20%20%20%20%20%20%20%20%20%20%20%20%7D%0A%20%20%20%20%20%20%20%20%20%20%20%20%29%3B%0A%0A%20%20%20%20%20%20%20%20%20%20%20%20%0A%0A%20%20%20%20%20%20%20%20%0A%20%20%20%20%0A%20%20%20%20%20%20%20%20%20%20%20%20var%20tile_layer_cc9e6cc455cb48dd85c295223670706c%20%3D%20L.tileLayer%28%0A%20%20%20%20%20%20%20%20%20%20%20%20%20%20%20%20%22https%3A//%7Bs%7D.tile.openstreetmap.org/%7Bz%7D/%7Bx%7D/%7By%7D.png%22%2C%0A%20%20%20%20%20%20%20%20%20%20%20%20%20%20%20%20%7B%22attribution%22%3A%20%22Data%20by%20%5Cu0026copy%3B%20%5Cu003ca%20href%3D%5C%22http%3A//openstreetmap.org%5C%22%5Cu003eOpenStreetMap%5Cu003c/a%5Cu003e%2C%20under%20%5Cu003ca%20href%3D%5C%22http%3A//www.openstreetmap.org/copyright%5C%22%5Cu003eODbL%5Cu003c/a%5Cu003e.%22%2C%20%22detectRetina%22%3A%20false%2C%20%22maxNativeZoom%22%3A%2018%2C%20%22maxZoom%22%3A%2018%2C%20%22minZoom%22%3A%200%2C%20%22noWrap%22%3A%20false%2C%20%22opacity%22%3A%201%2C%20%22subdomains%22%3A%20%22abc%22%2C%20%22tms%22%3A%20false%7D%0A%20%20%20%20%20%20%20%20%20%20%20%20%29.addTo%28map_31bb380f07014206a70ea45aa4cdaca7%29%3B%0A%20%20%20%20%20%20%20%20%0A%3C/script%3E onload=\"this.contentDocument.open();this.contentDocument.write(    decodeURIComponent(this.getAttribute('data-html')));this.contentDocument.close();\" allowfullscreen webkitallowfullscreen mozallowfullscreen></iframe></div></div>"
      ],
      "text/plain": [
       "<folium.folium.Map at 0x7ff02e918610>"
      ]
     },
     "execution_count": 204,
     "metadata": {},
     "output_type": "execute_result"
    }
   ],
   "source": [
    "mapa(42.6711661, -1.8188069)"
   ]
  },
  {
   "cell_type": "code",
   "execution_count": 338,
   "id": "beneficial-translation",
   "metadata": {},
   "outputs": [
    {
     "ename": "TypeError",
     "evalue": "'float' object is not callable",
     "output_type": "error",
     "traceback": [
      "\u001b[0;31m---------------------------------------------------------------------------\u001b[0m",
      "\u001b[0;31mTypeError\u001b[0m                                 Traceback (most recent call last)",
      "\u001b[0;32m<ipython-input-338-41be6b48a1d1>\u001b[0m in \u001b[0;36m<module>\u001b[0;34m\u001b[0m\n\u001b[0;32m----> 1\u001b[0;31m \u001b[0mmapa\u001b[0m\u001b[0;34m(\u001b[0m\u001b[0;36m42.8045626\u001b[0m\u001b[0;34m,\u001b[0m \u001b[0;34m-\u001b[0m\u001b[0;36m1.6524894\u001b[0m\u001b[0;34m)\u001b[0m\u001b[0;34m\u001b[0m\u001b[0;34m\u001b[0m\u001b[0m\n\u001b[0m",
      "\u001b[0;32m<ipython-input-336-40401b426c9f>\u001b[0m in \u001b[0;36mmapa\u001b[0;34m(localidad, coleccion)\u001b[0m\n\u001b[1;32m      1\u001b[0m \u001b[0;32mdef\u001b[0m \u001b[0mmapa\u001b[0m \u001b[0;34m(\u001b[0m\u001b[0mlocalidad\u001b[0m\u001b[0;34m,\u001b[0m \u001b[0mcoleccion\u001b[0m\u001b[0;34m)\u001b[0m\u001b[0;34m:\u001b[0m\u001b[0;34m\u001b[0m\u001b[0;34m\u001b[0m\u001b[0m\n\u001b[1;32m      2\u001b[0m \u001b[0;34m\u001b[0m\u001b[0m\n\u001b[0;32m----> 3\u001b[0;31m     \u001b[0mpunto_inicio\u001b[0m \u001b[0;34m=\u001b[0m \u001b[0mlocalidad\u001b[0m\u001b[0;34m(\u001b[0m\u001b[0mlocalidad\u001b[0m\u001b[0;34m)\u001b[0m\u001b[0;34m\u001b[0m\u001b[0;34m\u001b[0m\u001b[0m\n\u001b[0m\u001b[1;32m      4\u001b[0m \u001b[0;34m\u001b[0m\u001b[0m\n\u001b[1;32m      5\u001b[0m     \u001b[0mquery\u001b[0m \u001b[0;34m=\u001b[0m \u001b[0mlocali_colec_coord\u001b[0m\u001b[0;34m(\u001b[0m\u001b[0mcoleccion\u001b[0m\u001b[0;34m)\u001b[0m\u001b[0;34m\u001b[0m\u001b[0;34m\u001b[0m\u001b[0m\n",
      "\u001b[0;31mTypeError\u001b[0m: 'float' object is not callable"
     ]
    }
   ],
   "source": [
    "mapa(42.8045626, -1.6524894)"
   ]
  },
  {
   "cell_type": "code",
   "execution_count": 226,
   "id": "foreign-legislature",
   "metadata": {},
   "outputs": [],
   "source": [
    "def mapa2(lat, lon):\n",
    "    mapa = folium.Map(location = [lat, lon], zoom_start=20)\n",
    "    icono = Icon(color = \"blue\",\n",
    "             prefix = \"fa\",\n",
    "             icon = \"hotel\",\n",
    "                icon_color = \"black\",\n",
    "    )\n",
    "    loc = {\"location\":[lat,lon],\n",
    "          \"tooltip\": \"Hotel\"}\n",
    "\n",
    "    marker_of = Marker(**loc, icon = icono)\n",
    "    marker_of.add_to(mapa)\n",
    "\n",
    "    return mapa"
   ]
  },
  {
   "cell_type": "code",
   "execution_count": 227,
   "id": "greater-enterprise",
   "metadata": {},
   "outputs": [
    {
     "data": {
      "text/html": [
       "<div style=\"width:100%;\"><div style=\"position:relative;width:100%;height:0;padding-bottom:60%;\"><span style=\"color:#565656\">Make this Notebook Trusted to load map: File -> Trust Notebook</span><iframe src=\"about:blank\" style=\"position:absolute;width:100%;height:100%;left:0;top:0;border:none !important;\" data-html=%3C%21DOCTYPE%20html%3E%0A%3Chead%3E%20%20%20%20%0A%20%20%20%20%3Cmeta%20http-equiv%3D%22content-type%22%20content%3D%22text/html%3B%20charset%3DUTF-8%22%20/%3E%0A%20%20%20%20%0A%20%20%20%20%20%20%20%20%3Cscript%3E%0A%20%20%20%20%20%20%20%20%20%20%20%20L_NO_TOUCH%20%3D%20false%3B%0A%20%20%20%20%20%20%20%20%20%20%20%20L_DISABLE_3D%20%3D%20false%3B%0A%20%20%20%20%20%20%20%20%3C/script%3E%0A%20%20%20%20%0A%20%20%20%20%3Cstyle%3Ehtml%2C%20body%20%7Bwidth%3A%20100%25%3Bheight%3A%20100%25%3Bmargin%3A%200%3Bpadding%3A%200%3B%7D%3C/style%3E%0A%20%20%20%20%3Cstyle%3E%23map%20%7Bposition%3Aabsolute%3Btop%3A0%3Bbottom%3A0%3Bright%3A0%3Bleft%3A0%3B%7D%3C/style%3E%0A%20%20%20%20%3Cscript%20src%3D%22https%3A//cdn.jsdelivr.net/npm/leaflet%401.6.0/dist/leaflet.js%22%3E%3C/script%3E%0A%20%20%20%20%3Cscript%20src%3D%22https%3A//code.jquery.com/jquery-1.12.4.min.js%22%3E%3C/script%3E%0A%20%20%20%20%3Cscript%20src%3D%22https%3A//maxcdn.bootstrapcdn.com/bootstrap/3.2.0/js/bootstrap.min.js%22%3E%3C/script%3E%0A%20%20%20%20%3Cscript%20src%3D%22https%3A//cdnjs.cloudflare.com/ajax/libs/Leaflet.awesome-markers/2.0.2/leaflet.awesome-markers.js%22%3E%3C/script%3E%0A%20%20%20%20%3Clink%20rel%3D%22stylesheet%22%20href%3D%22https%3A//cdn.jsdelivr.net/npm/leaflet%401.6.0/dist/leaflet.css%22/%3E%0A%20%20%20%20%3Clink%20rel%3D%22stylesheet%22%20href%3D%22https%3A//maxcdn.bootstrapcdn.com/bootstrap/3.2.0/css/bootstrap.min.css%22/%3E%0A%20%20%20%20%3Clink%20rel%3D%22stylesheet%22%20href%3D%22https%3A//maxcdn.bootstrapcdn.com/bootstrap/3.2.0/css/bootstrap-theme.min.css%22/%3E%0A%20%20%20%20%3Clink%20rel%3D%22stylesheet%22%20href%3D%22https%3A//maxcdn.bootstrapcdn.com/font-awesome/4.6.3/css/font-awesome.min.css%22/%3E%0A%20%20%20%20%3Clink%20rel%3D%22stylesheet%22%20href%3D%22https%3A//cdnjs.cloudflare.com/ajax/libs/Leaflet.awesome-markers/2.0.2/leaflet.awesome-markers.css%22/%3E%0A%20%20%20%20%3Clink%20rel%3D%22stylesheet%22%20href%3D%22https%3A//cdn.jsdelivr.net/gh/python-visualization/folium/folium/templates/leaflet.awesome.rotate.min.css%22/%3E%0A%20%20%20%20%0A%20%20%20%20%20%20%20%20%20%20%20%20%3Cmeta%20name%3D%22viewport%22%20content%3D%22width%3Ddevice-width%2C%0A%20%20%20%20%20%20%20%20%20%20%20%20%20%20%20%20initial-scale%3D1.0%2C%20maximum-scale%3D1.0%2C%20user-scalable%3Dno%22%20/%3E%0A%20%20%20%20%20%20%20%20%20%20%20%20%3Cstyle%3E%0A%20%20%20%20%20%20%20%20%20%20%20%20%20%20%20%20%23map_7bf4aba817ac40808def14bcc47a84bd%20%7B%0A%20%20%20%20%20%20%20%20%20%20%20%20%20%20%20%20%20%20%20%20position%3A%20relative%3B%0A%20%20%20%20%20%20%20%20%20%20%20%20%20%20%20%20%20%20%20%20width%3A%20100.0%25%3B%0A%20%20%20%20%20%20%20%20%20%20%20%20%20%20%20%20%20%20%20%20height%3A%20100.0%25%3B%0A%20%20%20%20%20%20%20%20%20%20%20%20%20%20%20%20%20%20%20%20left%3A%200.0%25%3B%0A%20%20%20%20%20%20%20%20%20%20%20%20%20%20%20%20%20%20%20%20top%3A%200.0%25%3B%0A%20%20%20%20%20%20%20%20%20%20%20%20%20%20%20%20%7D%0A%20%20%20%20%20%20%20%20%20%20%20%20%3C/style%3E%0A%20%20%20%20%20%20%20%20%0A%3C/head%3E%0A%3Cbody%3E%20%20%20%20%0A%20%20%20%20%0A%20%20%20%20%20%20%20%20%20%20%20%20%3Cdiv%20class%3D%22folium-map%22%20id%3D%22map_7bf4aba817ac40808def14bcc47a84bd%22%20%3E%3C/div%3E%0A%20%20%20%20%20%20%20%20%0A%3C/body%3E%0A%3Cscript%3E%20%20%20%20%0A%20%20%20%20%0A%20%20%20%20%20%20%20%20%20%20%20%20var%20map_7bf4aba817ac40808def14bcc47a84bd%20%3D%20L.map%28%0A%20%20%20%20%20%20%20%20%20%20%20%20%20%20%20%20%22map_7bf4aba817ac40808def14bcc47a84bd%22%2C%0A%20%20%20%20%20%20%20%20%20%20%20%20%20%20%20%20%7B%0A%20%20%20%20%20%20%20%20%20%20%20%20%20%20%20%20%20%20%20%20center%3A%20%5B42.8045626%2C%20-1.6524894%5D%2C%0A%20%20%20%20%20%20%20%20%20%20%20%20%20%20%20%20%20%20%20%20crs%3A%20L.CRS.EPSG3857%2C%0A%20%20%20%20%20%20%20%20%20%20%20%20%20%20%20%20%20%20%20%20zoom%3A%2020%2C%0A%20%20%20%20%20%20%20%20%20%20%20%20%20%20%20%20%20%20%20%20zoomControl%3A%20true%2C%0A%20%20%20%20%20%20%20%20%20%20%20%20%20%20%20%20%20%20%20%20preferCanvas%3A%20false%2C%0A%20%20%20%20%20%20%20%20%20%20%20%20%20%20%20%20%7D%0A%20%20%20%20%20%20%20%20%20%20%20%20%29%3B%0A%0A%20%20%20%20%20%20%20%20%20%20%20%20%0A%0A%20%20%20%20%20%20%20%20%0A%20%20%20%20%0A%20%20%20%20%20%20%20%20%20%20%20%20var%20tile_layer_460254e54b224a9cb67d5fd21398d7a6%20%3D%20L.tileLayer%28%0A%20%20%20%20%20%20%20%20%20%20%20%20%20%20%20%20%22https%3A//%7Bs%7D.tile.openstreetmap.org/%7Bz%7D/%7Bx%7D/%7By%7D.png%22%2C%0A%20%20%20%20%20%20%20%20%20%20%20%20%20%20%20%20%7B%22attribution%22%3A%20%22Data%20by%20%5Cu0026copy%3B%20%5Cu003ca%20href%3D%5C%22http%3A//openstreetmap.org%5C%22%5Cu003eOpenStreetMap%5Cu003c/a%5Cu003e%2C%20under%20%5Cu003ca%20href%3D%5C%22http%3A//www.openstreetmap.org/copyright%5C%22%5Cu003eODbL%5Cu003c/a%5Cu003e.%22%2C%20%22detectRetina%22%3A%20false%2C%20%22maxNativeZoom%22%3A%2018%2C%20%22maxZoom%22%3A%2018%2C%20%22minZoom%22%3A%200%2C%20%22noWrap%22%3A%20false%2C%20%22opacity%22%3A%201%2C%20%22subdomains%22%3A%20%22abc%22%2C%20%22tms%22%3A%20false%7D%0A%20%20%20%20%20%20%20%20%20%20%20%20%29.addTo%28map_7bf4aba817ac40808def14bcc47a84bd%29%3B%0A%20%20%20%20%20%20%20%20%0A%20%20%20%20%0A%20%20%20%20%20%20%20%20%20%20%20%20var%20marker_1317f5153a394d0d88dab8818a668a6f%20%3D%20L.marker%28%0A%20%20%20%20%20%20%20%20%20%20%20%20%20%20%20%20%5B42.8045626%2C%20-1.6524894%5D%2C%0A%20%20%20%20%20%20%20%20%20%20%20%20%20%20%20%20%7B%7D%0A%20%20%20%20%20%20%20%20%20%20%20%20%29.addTo%28map_7bf4aba817ac40808def14bcc47a84bd%29%3B%0A%20%20%20%20%20%20%20%20%0A%20%20%20%20%0A%20%20%20%20%20%20%20%20%20%20%20%20var%20icon_25e90e615fc04117ab736497c540ad07%20%3D%20L.AwesomeMarkers.icon%28%0A%20%20%20%20%20%20%20%20%20%20%20%20%20%20%20%20%7B%22extraClasses%22%3A%20%22fa-rotate-0%22%2C%20%22icon%22%3A%20%22hotel%22%2C%20%22iconColor%22%3A%20%22black%22%2C%20%22markerColor%22%3A%20%22blue%22%2C%20%22prefix%22%3A%20%22fa%22%7D%0A%20%20%20%20%20%20%20%20%20%20%20%20%29%3B%0A%20%20%20%20%20%20%20%20%20%20%20%20marker_1317f5153a394d0d88dab8818a668a6f.setIcon%28icon_25e90e615fc04117ab736497c540ad07%29%3B%0A%20%20%20%20%20%20%20%20%0A%20%20%20%20%0A%20%20%20%20%20%20%20%20%20%20%20%20marker_1317f5153a394d0d88dab8818a668a6f.bindTooltip%28%0A%20%20%20%20%20%20%20%20%20%20%20%20%20%20%20%20%60%3Cdiv%3E%0A%20%20%20%20%20%20%20%20%20%20%20%20%20%20%20%20%20%20%20%20%20Hotel%0A%20%20%20%20%20%20%20%20%20%20%20%20%20%20%20%20%20%3C/div%3E%60%2C%0A%20%20%20%20%20%20%20%20%20%20%20%20%20%20%20%20%7B%22sticky%22%3A%20true%7D%0A%20%20%20%20%20%20%20%20%20%20%20%20%29%3B%0A%20%20%20%20%20%20%20%20%0A%3C/script%3E onload=\"this.contentDocument.open();this.contentDocument.write(    decodeURIComponent(this.getAttribute('data-html')));this.contentDocument.close();\" allowfullscreen webkitallowfullscreen mozallowfullscreen></iframe></div></div>"
      ],
      "text/plain": [
       "<folium.folium.Map at 0x7ff02e877250>"
      ]
     },
     "execution_count": 227,
     "metadata": {},
     "output_type": "execute_result"
    }
   ],
   "source": [
    "mapa2(42.8045626, -1.6524894)"
   ]
  },
  {
   "cell_type": "code",
   "execution_count": null,
   "id": "challenging-velvet",
   "metadata": {},
   "outputs": [],
   "source": []
  },
  {
   "cell_type": "code",
   "execution_count": null,
   "id": "attended-guest",
   "metadata": {},
   "outputs": [],
   "source": []
  },
  {
   "cell_type": "code",
   "execution_count": null,
   "id": "baking-sterling",
   "metadata": {},
   "outputs": [],
   "source": []
  },
  {
   "cell_type": "code",
   "execution_count": null,
   "id": "radio-animal",
   "metadata": {},
   "outputs": [],
   "source": []
  },
  {
   "cell_type": "code",
   "execution_count": null,
   "id": "indonesian-novelty",
   "metadata": {},
   "outputs": [],
   "source": [
    "q4 = {\"LOCALIDAD\":\"PUENTE LA REINA\"}\n",
    "\n",
    "z4 = list(db.Patrimonio.find(q4,{\"_id\":0, \"NOMBRE\":1, \"LOCALIDAD\":1, \"COORDENADAS\":1}))\n",
    "\n",
    "z4[:5]"
   ]
  },
  {
   "cell_type": "code",
   "execution_count": null,
   "id": "capable-mistress",
   "metadata": {},
   "outputs": [],
   "source": []
  },
  {
   "cell_type": "code",
   "execution_count": null,
   "id": "colonial-crest",
   "metadata": {},
   "outputs": [],
   "source": [
    "def local_colec(localidad, coleccion):\n",
    "    query: {\"LOCALIDAD\":{f\"{localidad}\"}}\n",
    "    coordenadas = list(db.{f\"{coleccion}}.find(query,{\"_id\":0,\"COORDENADAS\":1})\n",
    "    return coordenadas"
   ]
  },
  {
   "cell_type": "code",
   "execution_count": null,
   "id": "piano-license",
   "metadata": {},
   "outputs": [],
   "source": []
  },
  {
   "cell_type": "code",
   "execution_count": null,
   "id": "breathing-section",
   "metadata": {},
   "outputs": [],
   "source": []
  },
  {
   "cell_type": "code",
   "execution_count": null,
   "id": "stone-royalty",
   "metadata": {},
   "outputs": [],
   "source": []
  },
  {
   "cell_type": "code",
   "execution_count": null,
   "id": "aerial-ideal",
   "metadata": {},
   "outputs": [],
   "source": [
    "def coord(direccion, localidad):\n",
    "    \n",
    "    \"\"\"\n",
    "    La función coord, metiendo una dirección y una localidad te devulve la latitud y longitud\n",
    "  \n",
    "    input: dirección y localidad\n",
    "    output: coordenadas\n",
    "  \n",
    "    \"\"\"\n",
    "    \n",
    "    try:\n",
    "\n",
    "        direccion = direccion.replace(\" \", \"+\")\n",
    "        load_dotenv()\n",
    "        gtok = os.getenv(\"gtok\")\n",
    "\n",
    "        url = \"https://maps.googleapis.com/maps/api/geocode/json?address={}&key={}\".format(direccion, gtok)\n",
    "        cosas = requests.get(url).json()\n",
    "        lat = cosas['results'][0].get('geometry')['location']['lat']\n",
    "        lng = cosas['results'][0].get('geometry')['location']['lng']\n",
    "        return lat, lng\n",
    "    \n",
    "    except:\n",
    "        print(\"Error, no encuentra esta dirección\", direccion)"
   ]
  },
  {
   "cell_type": "code",
   "execution_count": null,
   "id": "dependent-helen",
   "metadata": {},
   "outputs": [],
   "source": []
  }
 ],
 "metadata": {
  "kernelspec": {
   "display_name": "Python 3",
   "language": "python",
   "name": "python3"
  },
  "language_info": {
   "codemirror_mode": {
    "name": "ipython",
    "version": 3
   },
   "file_extension": ".py",
   "mimetype": "text/x-python",
   "name": "python",
   "nbconvert_exporter": "python",
   "pygments_lexer": "ipython3",
   "version": "3.8.5"
  },
  "toc": {
   "base_numbering": 1,
   "nav_menu": {},
   "number_sections": true,
   "sideBar": true,
   "skip_h1_title": false,
   "title_cell": "Table of Contents",
   "title_sidebar": "Contents",
   "toc_cell": false,
   "toc_position": {},
   "toc_section_display": true,
   "toc_window_display": false
  },
  "varInspector": {
   "cols": {
    "lenName": 16,
    "lenType": 16,
    "lenVar": 40
   },
   "kernels_config": {
    "python": {
     "delete_cmd_postfix": "",
     "delete_cmd_prefix": "del ",
     "library": "var_list.py",
     "varRefreshCmd": "print(var_dic_list())"
    },
    "r": {
     "delete_cmd_postfix": ") ",
     "delete_cmd_prefix": "rm(",
     "library": "var_list.r",
     "varRefreshCmd": "cat(var_dic_list()) "
    }
   },
   "types_to_exclude": [
    "module",
    "function",
    "builtin_function_or_method",
    "instance",
    "_Feature"
   ],
   "window_display": false
  }
 },
 "nbformat": 4,
 "nbformat_minor": 5
}
