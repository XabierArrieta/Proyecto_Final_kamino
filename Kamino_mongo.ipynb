{
 "cells": [
  {
   "cell_type": "markdown",
   "id": "freelance-melbourne",
   "metadata": {},
   "source": [
    "# Test Colecciones"
   ]
  },
  {
   "cell_type": "code",
   "execution_count": 1,
   "id": "vital-bread",
   "metadata": {},
   "outputs": [
    {
     "ename": "ModuleNotFoundError",
     "evalue": "No module named 'funciones_queries'",
     "output_type": "error",
     "traceback": [
      "\u001b[0;31m---------------------------------------------------------------------------\u001b[0m",
      "\u001b[0;31mModuleNotFoundError\u001b[0m                       Traceback (most recent call last)",
      "\u001b[0;32m<ipython-input-1-1b4eb6e952c9>\u001b[0m in \u001b[0;36m<module>\u001b[0;34m\u001b[0m\n\u001b[1;32m      6\u001b[0m \u001b[0msys\u001b[0m\u001b[0;34m.\u001b[0m\u001b[0mpath\u001b[0m\u001b[0;34m.\u001b[0m\u001b[0mappend\u001b[0m\u001b[0;34m(\u001b[0m\u001b[0;34m\"../\"\u001b[0m\u001b[0;34m)\u001b[0m\u001b[0;34m\u001b[0m\u001b[0;34m\u001b[0m\u001b[0m\n\u001b[1;32m      7\u001b[0m \u001b[0;34m\u001b[0m\u001b[0m\n\u001b[0;32m----> 8\u001b[0;31m \u001b[0;32mfrom\u001b[0m \u001b[0mfunciones_queries\u001b[0m \u001b[0;32mimport\u001b[0m \u001b[0;34m*\u001b[0m\u001b[0;34m\u001b[0m\u001b[0;34m\u001b[0m\u001b[0m\n\u001b[0m",
      "\u001b[0;31mModuleNotFoundError\u001b[0m: No module named 'funciones_queries'"
     ]
    }
   ],
   "source": [
    "import requests\n",
    "import json\n",
    "from pymongo import MongoClient\n",
    "\n",
    "import sys\n",
    "sys.path.append(\"../\")\n",
    "\n",
    "from funciones_queries import *"
   ]
  },
  {
   "cell_type": "code",
   "execution_count": null,
   "id": "partial-cocktail",
   "metadata": {},
   "outputs": [],
   "source": [
    "client = MongoClient()\n",
    "db = client.get_database(\"kamino\")\n",
    "aloj = client.kamino.Alojamiento\n",
    "rest = client.kamino.Restauracion\n",
    "patr = client.kamino.Patrimonio"
   ]
  },
  {
   "cell_type": "code",
   "execution_count": null,
   "id": "assured-connecticut",
   "metadata": {},
   "outputs": [],
   "source": [
    "list(db.list_collections())"
   ]
  },
  {
   "cell_type": "markdown",
   "id": "living-girlfriend",
   "metadata": {},
   "source": [
    "## Test Alojamiento"
   ]
  },
  {
   "cell_type": "code",
   "execution_count": null,
   "id": "smart-stream",
   "metadata": {},
   "outputs": [],
   "source": [
    "#Todos los alojaminetos por localidad\n",
    "q1 = {\"LOCALIDAD\":\"PAMPLONA\"}\n",
    "\n",
    "z1 = list(db.Alojamiento.find(q1,{\"_id\":0, \"CÓDIGO\":0}))\n",
    "\n",
    "z1[:5]"
   ]
  },
  {
   "cell_type": "code",
   "execution_count": null,
   "id": "proud-millennium",
   "metadata": {},
   "outputs": [],
   "source": [
    "# Todos los alojamiento de una localidad y mostrando que tipo de alojamiento\n",
    "q2 = {\"LOCALIDAD\":\"PAMPLONA\"}\n",
    "\n",
    "z2 = list(db.Alojamiento.find(q2,{\"_id\":0, \"MODALIDAD\":1, \"NOMBRE\":1}))\n",
    "\n",
    "z2[:10]"
   ]
  },
  {
   "cell_type": "code",
   "execution_count": null,
   "id": "juvenile-proposition",
   "metadata": {},
   "outputs": [],
   "source": [
    "# Todos los alojamiento de una localidad por modalidad y mostrando su nombre\n",
    "q3 = {\"$and\":[{\"LOCALIDAD\":\"PAMPLONA\"},{\"MODALIDAD\":\"Hotel\"}]}\n",
    "\n",
    "z3 = list(db.Alojamiento.find(q3,{\"_id\":0, \"MODALIDAD\":1, \"NOMBRE\":1, \"LOCALIDAD\":1}))\n",
    "\n",
    "z3[:5]"
   ]
  },
  {
   "cell_type": "code",
   "execution_count": null,
   "id": "possible-planning",
   "metadata": {},
   "outputs": [],
   "source": [
    "# Todos los alojamiento de una localidad por modalidad, mostrando su nombre Y dirección\n",
    "q4 = {\"$and\":[{\"LOCALIDAD\":\"PAMPLONA\"},{\"MODALIDAD\":\"Hotel\"}]}\n",
    "\n",
    "z4 = list(db.Alojamiento.find(q4,{\"_id\":0, \"MODALIDAD\":1, \"NOMBRE\":1, \"LOCALIDAD\":1, \"DIRECCIÓN\":1}))\n",
    "\n",
    "z4[:5]"
   ]
  },
  {
   "cell_type": "markdown",
   "id": "authorized-bradley",
   "metadata": {},
   "source": [
    "## Test Restauración"
   ]
  },
  {
   "cell_type": "code",
   "execution_count": null,
   "id": "atlantic-recruitment",
   "metadata": {},
   "outputs": [],
   "source": [
    "#Todas las opciones de Restauración por localidad\n",
    "q1 = {\"LOCALIDAD\":\"ESTELLA\"}\n",
    "\n",
    "z1 = list(db.Restauracion.find(q1,{\"_id\":0, \"CÓDIGO\":0}))\n",
    "\n",
    "z1[:5]"
   ]
  },
  {
   "cell_type": "code",
   "execution_count": null,
   "id": "atmospheric-mayor",
   "metadata": {},
   "outputs": [],
   "source": [
    "# Toda la restauración de una localidad y mostrando qué tipo y su nombre\n",
    "q2 = {\"LOCALIDAD\":\"ESTELLA\"}\n",
    "\n",
    "z2 = list(db.Restauracion.find(q2,{\"_id\":0, \"MODALIDAD\":1, \"NOMBRE\":1}))\n",
    "\n",
    "z2[:10]"
   ]
  },
  {
   "cell_type": "code",
   "execution_count": null,
   "id": "amended-badge",
   "metadata": {},
   "outputs": [],
   "source": [
    "# Todos los restaurantes de una localidad por modalidad y mostrando su nombre y localidad\n",
    "q3 = {\"$and\":[{\"LOCALIDAD\":\"ESTELLA\"},{\"MODALIDAD\":\"Restaurantes\"}]}\n",
    "\n",
    "z3 = list(db.Restauracion.find(q3,{\"_id\":0, \"MODALIDAD\":1, \"NOMBRE\":1, \"LOCALIDAD\":1}))\n",
    "\n",
    "z3[:5]"
   ]
  },
  {
   "cell_type": "code",
   "execution_count": null,
   "id": "loose-spotlight",
   "metadata": {},
   "outputs": [],
   "source": [
    "# Todos los Restaurantes de una localidad por modalidad, mostrando su nombre, dirección y localidad\n",
    "q4 = {\"$and\":[{\"LOCALIDAD\":\"ESTELLA\"},{\"MODALIDAD\":\"Restaurantes\"}]}\n",
    "\n",
    "z4 = list(db.Restauracion.find(q4,{\"_id\":0, \"MODALIDAD\":1, \"NOMBRE\":1, \"LOCALIDAD\":1, \"DIRECCIÓN\":1}))\n",
    "\n",
    "z4[:5]"
   ]
  },
  {
   "cell_type": "markdown",
   "id": "verbal-success",
   "metadata": {},
   "source": [
    "## Test Patrimonio"
   ]
  },
  {
   "cell_type": "code",
   "execution_count": null,
   "id": "subject-respondent",
   "metadata": {},
   "outputs": [],
   "source": [
    "#Todas las opciones de Patrimonio por localidad\n",
    "q1 = {\"LOCALIDAD\":\"PUENTE LA REINA\"}\n",
    "\n",
    "z1 = list(db.Patrimonio.find(q1,{\"_id\":0, \"CÓDIGO\":0}))\n",
    "\n",
    "z1[:5]"
   ]
  },
  {
   "cell_type": "code",
   "execution_count": null,
   "id": "actual-heritage",
   "metadata": {},
   "outputs": [],
   "source": [
    "# Todo el patrimonio de una localidad y \n",
    "q2 = {\"LOCALIDAD\":\"PUENTE LA REINA\"}\n",
    "\n",
    "z2 = list(db.Patrimonio.find(q2,{\"_id\":0, \"CATEGORÍA\":1, \"NOMBRE\":1}))\n",
    "\n",
    "z2[:10]"
   ]
  },
  {
   "cell_type": "code",
   "execution_count": null,
   "id": "accomplished-sheffield",
   "metadata": {},
   "outputs": [],
   "source": [
    "# Todos el patrimonio de una localidad y mostrando nombre, categoría y estilo\n",
    "q3 = {\"LOCALIDAD\":\"PUENTE LA REINA\"}\n",
    "\n",
    "z3 = list(db.Patrimonio.find(q3,{\"_id\":0,\"CATEGORÍA\":1, \"NOMBRE\":1, \"ESTILO\":1}))\n",
    "\n",
    "z3[:5]"
   ]
  },
  {
   "cell_type": "code",
   "execution_count": null,
   "id": "impressive-morning",
   "metadata": {},
   "outputs": [],
   "source": [
    "# Todo el patrimonio de una localidad mostrando sus coordenadas\n",
    "q4 = {\"LOCALIDAD\":\"PUENTE LA REINA\"}\n",
    "\n",
    "z4 = list(db.Patrimonio.find(q4,{\"_id\":0, \"NOMBRE\":1, \"LOCALIDAD\":1, \"COORDENADAS\":1}))\n",
    "\n",
    "z4[:5]"
   ]
  },
  {
   "cell_type": "markdown",
   "id": "sporting-scholar",
   "metadata": {},
   "source": [
    "# Funciones y mapas"
   ]
  },
  {
   "cell_type": "code",
   "execution_count": null,
   "id": "incident-excellence",
   "metadata": {},
   "outputs": [],
   "source": [
    "import folium\n",
    "from folium import Choropleth, Circle, Marker, Icon, Map\n",
    "from geopy.geocoders import Nominatim"
   ]
  },
  {
   "cell_type": "code",
   "execution_count": null,
   "id": "noted-privilege",
   "metadata": {},
   "outputs": [],
   "source": [
    "def localidad():\n",
    "    \n",
    "    \"\"\"\n",
    "    La función recibe un input del usuario; la localización en la que se encuentra y a través de Geocoder\n",
    "    devuelve el nombre de la localidad y las coordenadas.\n",
    "    \n",
    "    Input: Nombre de la localidad\n",
    "    Output: Nombre de la localidad y las coordenadas de la localidad\n",
    "    \n",
    "    \"\"\"\n",
    "    \n",
    "    localidad = (input(\"Localidad: \")).upper() #Convierte el input en mayúsculas para que es´te igual que en la BBDD.\n",
    "    \n",
    "    locator = Nominatim(user_agent = \"myGeocoder\")\n",
    "    location = locator.geocode(localidad)\n",
    "    coordenadas = location.latitude, location.longitude\n",
    " \n",
    "    return localidad, list(coordenadas)"
   ]
  },
  {
   "cell_type": "code",
   "execution_count": null,
   "id": "therapeutic-summit",
   "metadata": {},
   "outputs": [],
   "source": [
    "localidad()"
   ]
  },
  {
   "cell_type": "code",
   "execution_count": null,
   "id": "israeli-voice",
   "metadata": {},
   "outputs": [],
   "source": [
    "localidad()"
   ]
  },
  {
   "cell_type": "code",
   "execution_count": null,
   "id": "molecular-fiber",
   "metadata": {},
   "outputs": [],
   "source": [
    "def locali_colec_coord(coleccion, *lugar):\n",
    "    \n",
    "    \"\"\"\n",
    "    La función recibe una colección y un lugar; hace una query a la colección seleccionada y el lugar\n",
    "    especifivado y devuelve las coordenadas de los lugares encontrados.\n",
    "   \n",
    "    \n",
    "    Input: Nombre de la colección y localidad\n",
    "    Output: Las coordenadas de la localidad\n",
    "    \n",
    "    \"\"\"\n",
    "    bbdd = db[f'{coleccion}']\n",
    "    query = {\"LOCALIDAD\":f\"{lugar[0]}\"}\n",
    "    coordenadas = list(bbdd.find(query,{\"_id\":0,\"COORDENADAS\":1}))\n",
    "    return coordenadas"
   ]
  },
  {
   "cell_type": "code",
   "execution_count": null,
   "id": "latin-layer",
   "metadata": {},
   "outputs": [],
   "source": [
    "locali_colec_coord(\"Patrimonio\", \"PAMPLONA\")[:2]"
   ]
  },
  {
   "cell_type": "code",
   "execution_count": null,
   "id": "appropriate-mother",
   "metadata": {},
   "outputs": [],
   "source": [
    "locali_colec_coord(\"Alojamiento\", \"PAMPLONA\")[:5]"
   ]
  },
  {
   "cell_type": "code",
   "execution_count": null,
   "id": "theoretical-soundtrack",
   "metadata": {},
   "outputs": [],
   "source": [
    "locali_colec_coord(\"Alojamiento\", \"ESTELLA\")[:5]"
   ]
  },
  {
   "cell_type": "code",
   "execution_count": null,
   "id": "backed-decline",
   "metadata": {},
   "outputs": [],
   "source": [
    "locali_colec_coord(\"Alojamiento\", \"ESTELLA\")[:10]"
   ]
  },
  {
   "cell_type": "code",
   "execution_count": null,
   "id": "beneficial-sunglasses",
   "metadata": {},
   "outputs": [],
   "source": [
    "locali_colec_coord(\"Restauracion\", \"PAMPLONA\")[:5]"
   ]
  },
  {
   "cell_type": "code",
   "execution_count": null,
   "id": "perceived-relief",
   "metadata": {},
   "outputs": [],
   "source": [
    "def mapa (coleccion):\n",
    "    \n",
    "    \"\"\"\n",
    "    Función creada para mostrar en un mapa la información relacionada con cada colección dependiendo de la localidad\n",
    "    \n",
    "    input : localidad y colección\n",
    "    output : mapa\n",
    "    \n",
    "    \n",
    "    \"\"\"\n",
    "    \n",
    "    nombre, punto_inicio = localidad() #Devuelve el nombre de la localidad y las coordenadas\n",
    "    \n",
    "    query = locali_colec_coord(coleccion, nombre) #Hace una query con el nombre de la localidad\n",
    "    \n",
    "    mapa = folium.Map(location = punto_inicio, zoom_start=15) #Devuelve un mapa con las coordenadas\n",
    "    \n",
    "\n",
    "    for cada_entrada in query:\n",
    "        coordenadas = list(cada_entrada.values())\n",
    "        lat = coordenadas[0].split(\",\")[0][1:]\n",
    "        lon = coordenadas[0].split(\",\")[1][:-1]\n",
    "                         \n",
    "        loc = {\"location\":[lat,lon],\n",
    "          \"tooltip\": f\"{coleccion}\"}\n",
    "\n",
    "        marker_of = Marker(**loc, icon = markers(coleccion) , popup=f\"{coleccion}\")\n",
    "        marker_of.add_to(mapa)\n",
    "    \n",
    "    return mapa"
   ]
  },
  {
   "cell_type": "code",
   "execution_count": null,
   "id": "faced-tunnel",
   "metadata": {},
   "outputs": [],
   "source": [
    "mapa(\"Alojamiento\")"
   ]
  },
  {
   "cell_type": "code",
   "execution_count": null,
   "id": "linear-military",
   "metadata": {},
   "outputs": [],
   "source": [
    "def markers(coleccion):\n",
    "    \n",
    "    \n",
    "    \"\"\" \n",
    "    Función que devuelve un icono según la colección.\n",
    "    \n",
    "    Input : Nombre de la colecciñon\n",
    "    Output : Icono\n",
    "    \n",
    "    \n",
    "    \n",
    "    \"\"\"\n",
    "    \n",
    "    if coleccion == \"Alojamiento\":\n",
    "        icono = Icon(color = \"blue\",\n",
    "                prefix = \"fa\",\n",
    "                icon = \"hotel\",\n",
    "                icon_color = \"black\")\n",
    "        \n",
    "    elif coleccion == \"Patrimonio\":   \n",
    "        icono = Icon(color = \"orange\",\n",
    "                prefix = \"fa\",\n",
    "                icon = \"camera\",\n",
    "                icon_color = \"black\")\n",
    "        \n",
    "    else:\n",
    "        icono = Icon(color = \"green\",\n",
    "                prefix = \"fa\",\n",
    "                icon = \"spoon\",\n",
    "                icon_color = \"black\")\n",
    "\n",
    "    return icono"
   ]
  },
  {
   "cell_type": "code",
   "execution_count": null,
   "id": "written-registration",
   "metadata": {},
   "outputs": [],
   "source": [
    "!git remote show origin"
   ]
  },
  {
   "cell_type": "code",
   "execution_count": null,
   "id": "acting-chase",
   "metadata": {},
   "outputs": [],
   "source": [
    "mapa(\"Alojamiento\")"
   ]
  },
  {
   "cell_type": "code",
   "execution_count": null,
   "id": "united-arabic",
   "metadata": {},
   "outputs": [],
   "source": [
    "mapa(\"Patrimonio\")"
   ]
  },
  {
   "cell_type": "code",
   "execution_count": null,
   "id": "viral-minneapolis",
   "metadata": {},
   "outputs": [],
   "source": [
    "mapa(\"Patrimonio\")"
   ]
  },
  {
   "cell_type": "code",
   "execution_count": null,
   "id": "integrated-tooth",
   "metadata": {},
   "outputs": [],
   "source": [
    "mapa(\"Restauracion\")"
   ]
  },
  {
   "cell_type": "code",
   "execution_count": null,
   "id": "instant-category",
   "metadata": {},
   "outputs": [],
   "source": [
    "mapa(\"Patrimonio\")"
   ]
  },
  {
   "cell_type": "code",
   "execution_count": null,
   "id": "nasty-august",
   "metadata": {},
   "outputs": [],
   "source": []
  }
 ],
 "metadata": {
  "kernelspec": {
   "display_name": "Python 3",
   "language": "python",
   "name": "python3"
  },
  "language_info": {
   "codemirror_mode": {
    "name": "ipython",
    "version": 3
   },
   "file_extension": ".py",
   "mimetype": "text/x-python",
   "name": "python",
   "nbconvert_exporter": "python",
   "pygments_lexer": "ipython3",
   "version": "3.8.5"
  },
  "toc": {
   "base_numbering": 1,
   "nav_menu": {},
   "number_sections": true,
   "sideBar": true,
   "skip_h1_title": false,
   "title_cell": "Table of Contents",
   "title_sidebar": "Contents",
   "toc_cell": false,
   "toc_position": {},
   "toc_section_display": true,
   "toc_window_display": false
  },
  "varInspector": {
   "cols": {
    "lenName": 16,
    "lenType": 16,
    "lenVar": 40
   },
   "kernels_config": {
    "python": {
     "delete_cmd_postfix": "",
     "delete_cmd_prefix": "del ",
     "library": "var_list.py",
     "varRefreshCmd": "print(var_dic_list())"
    },
    "r": {
     "delete_cmd_postfix": ") ",
     "delete_cmd_prefix": "rm(",
     "library": "var_list.r",
     "varRefreshCmd": "cat(var_dic_list()) "
    }
   },
   "types_to_exclude": [
    "module",
    "function",
    "builtin_function_or_method",
    "instance",
    "_Feature"
   ],
   "window_display": false
  }
 },
 "nbformat": 4,
 "nbformat_minor": 5
}
